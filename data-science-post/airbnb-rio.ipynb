{
 "cells": [
  {
   "cell_type": "markdown",
   "metadata": {},
   "source": [
    "# Insights from AirBnB data from Rio de Janeiro"
   ]
  },
  {
   "cell_type": "markdown",
   "metadata": {},
   "source": [
    "### Parts"
   ]
  },
  {
   "cell_type": "markdown",
   "metadata": {},
   "source": [
    "| Section | Part                                 |  \n",
    "| :-      |:-                                    |          \n",
    "| 1       | [Exploratory data analysis](#eda)                 | \n",
    "| 2       | [Preprocessing](#pp) |      \n",
    "| 3       | [Modeling](#modeling)     | \n",
    "| 4       | [Challenges and future work](#challenges)                     | \n",
    "| 5       | [Acknowledgments](#ack)      |  "
   ]
  },
  {
   "cell_type": "markdown",
   "metadata": {},
   "source": [
    "### Questions\n",
    "\n",
    "This notebook aims to answer the questions below:\n",
    "1. A good tip for writing listing titles\n",
    "2. Which is the best period to rent an AirBnb in rio?\n",
    "3. Which features are most  important to listing prices?\n",
    "\n"
   ]
  },
  {
   "cell_type": "markdown",
   "metadata": {},
   "source": [
    "### Importing necessary libs"
   ]
  },
  {
   "cell_type": "code",
   "execution_count": 10,
   "metadata": {},
   "outputs": [],
   "source": [
    "import pandas as pd\n",
    "import seaborn as sns\n",
    "import matplotlib.pyplot as plt\n",
    "import holidays\n",
    "from wordcloud import WordCloud"
   ]
  },
  {
   "cell_type": "code",
   "execution_count": 11,
   "metadata": {},
   "outputs": [],
   "source": [
    "listings_df = pd.read_csv('data/listings.csv')\n",
    "listings_summary_df = pd.read_csv('data/listings_summary.csv')\n",
    "calendar_df = pd.read_csv('data/calendar.csv')"
   ]
  },
  {
   "cell_type": "markdown",
   "metadata": {},
   "source": [
    "- Listings.csv contains the full airbnb dataset of the city of Rio de Janeiro, Brazil.\n",
    "- Listings_summary.csv is a resumed and cleaned version of this same dataset.\n",
    "- Calendar.csv contains the price of each listing during the period of one year."
   ]
  },
  {
   "cell_type": "markdown",
   "metadata": {},
   "source": [
    "<a id=\"eda\"/>"
   ]
  },
  {
   "cell_type": "markdown",
   "metadata": {},
   "source": [
    "### Exploratory data analysis"
   ]
  },
  {
   "cell_type": "code",
   "execution_count": 12,
   "metadata": {},
   "outputs": [
    {
     "data": {
      "text/html": [
       "<div>\n",
       "<style scoped>\n",
       "    .dataframe tbody tr th:only-of-type {\n",
       "        vertical-align: middle;\n",
       "    }\n",
       "\n",
       "    .dataframe tbody tr th {\n",
       "        vertical-align: top;\n",
       "    }\n",
       "\n",
       "    .dataframe thead th {\n",
       "        text-align: right;\n",
       "    }\n",
       "</style>\n",
       "<table border=\"1\" class=\"dataframe\">\n",
       "  <thead>\n",
       "    <tr style=\"text-align: right;\">\n",
       "      <th></th>\n",
       "      <th>id</th>\n",
       "      <th>listing_url</th>\n",
       "      <th>scrape_id</th>\n",
       "      <th>last_scraped</th>\n",
       "      <th>name</th>\n",
       "      <th>description</th>\n",
       "      <th>neighborhood_overview</th>\n",
       "      <th>picture_url</th>\n",
       "      <th>host_id</th>\n",
       "      <th>host_url</th>\n",
       "      <th>...</th>\n",
       "      <th>review_scores_communication</th>\n",
       "      <th>review_scores_location</th>\n",
       "      <th>review_scores_value</th>\n",
       "      <th>license</th>\n",
       "      <th>instant_bookable</th>\n",
       "      <th>calculated_host_listings_count</th>\n",
       "      <th>calculated_host_listings_count_entire_homes</th>\n",
       "      <th>calculated_host_listings_count_private_rooms</th>\n",
       "      <th>calculated_host_listings_count_shared_rooms</th>\n",
       "      <th>reviews_per_month</th>\n",
       "    </tr>\n",
       "  </thead>\n",
       "  <tbody>\n",
       "    <tr>\n",
       "      <th>0</th>\n",
       "      <td>17878</td>\n",
       "      <td>https://www.airbnb.com/rooms/17878</td>\n",
       "      <td>20210222161029</td>\n",
       "      <td>2021-02-23</td>\n",
       "      <td>Very Nice 2Br in Copacabana w. balcony, fast WiFi</td>\n",
       "      <td>Discounts for long term stays. &lt;br /&gt;- Large b...</td>\n",
       "      <td>This is the one of the bests spots in Rio. Bec...</td>\n",
       "      <td>https://a0.muscache.com/pictures/65320518/3069...</td>\n",
       "      <td>68997</td>\n",
       "      <td>https://www.airbnb.com/users/show/68997</td>\n",
       "      <td>...</td>\n",
       "      <td>10.0</td>\n",
       "      <td>10.0</td>\n",
       "      <td>9.0</td>\n",
       "      <td>NaN</td>\n",
       "      <td>t</td>\n",
       "      <td>1</td>\n",
       "      <td>1</td>\n",
       "      <td>0</td>\n",
       "      <td>0</td>\n",
       "      <td>2.01</td>\n",
       "    </tr>\n",
       "    <tr>\n",
       "      <th>1</th>\n",
       "      <td>24480</td>\n",
       "      <td>https://www.airbnb.com/rooms/24480</td>\n",
       "      <td>20210222161029</td>\n",
       "      <td>2021-02-23</td>\n",
       "      <td>Nice and cozy near Ipanema Beach</td>\n",
       "      <td>My studio is located in the best  of Ipanema. ...</td>\n",
       "      <td>The beach, the lagoon, Ipanema is a great loca...</td>\n",
       "      <td>https://a0.muscache.com/pictures/11955612/b28e...</td>\n",
       "      <td>99249</td>\n",
       "      <td>https://www.airbnb.com/users/show/99249</td>\n",
       "      <td>...</td>\n",
       "      <td>10.0</td>\n",
       "      <td>10.0</td>\n",
       "      <td>9.0</td>\n",
       "      <td>NaN</td>\n",
       "      <td>f</td>\n",
       "      <td>1</td>\n",
       "      <td>1</td>\n",
       "      <td>0</td>\n",
       "      <td>0</td>\n",
       "      <td>0.67</td>\n",
       "    </tr>\n",
       "    <tr>\n",
       "      <th>2</th>\n",
       "      <td>25026</td>\n",
       "      <td>https://www.airbnb.com/rooms/25026</td>\n",
       "      <td>20210222161029</td>\n",
       "      <td>2021-02-23</td>\n",
       "      <td>Beautiful Modern Decorated Studio in Copa</td>\n",
       "      <td>Our apartment is a little gem, everyone loves ...</td>\n",
       "      <td>Copacabana is a lively neighborhood and the ap...</td>\n",
       "      <td>https://a0.muscache.com/pictures/3003965/68ebb...</td>\n",
       "      <td>3746246</td>\n",
       "      <td>https://www.airbnb.com/users/show/3746246</td>\n",
       "      <td>...</td>\n",
       "      <td>10.0</td>\n",
       "      <td>10.0</td>\n",
       "      <td>9.0</td>\n",
       "      <td>NaN</td>\n",
       "      <td>f</td>\n",
       "      <td>11</td>\n",
       "      <td>11</td>\n",
       "      <td>0</td>\n",
       "      <td>0</td>\n",
       "      <td>1.82</td>\n",
       "    </tr>\n",
       "    <tr>\n",
       "      <th>3</th>\n",
       "      <td>35636</td>\n",
       "      <td>https://www.airbnb.com/rooms/35636</td>\n",
       "      <td>20210222161029</td>\n",
       "      <td>2021-02-24</td>\n",
       "      <td>Cosy flat close to Ipanema beach</td>\n",
       "      <td>This cosy apartment  is just a few steps away ...</td>\n",
       "      <td>The  apartment street is very quiet and safe ....</td>\n",
       "      <td>https://a0.muscache.com/pictures/20009355/38b6...</td>\n",
       "      <td>153232</td>\n",
       "      <td>https://www.airbnb.com/users/show/153232</td>\n",
       "      <td>...</td>\n",
       "      <td>10.0</td>\n",
       "      <td>10.0</td>\n",
       "      <td>9.0</td>\n",
       "      <td>NaN</td>\n",
       "      <td>f</td>\n",
       "      <td>1</td>\n",
       "      <td>1</td>\n",
       "      <td>0</td>\n",
       "      <td>0</td>\n",
       "      <td>2.02</td>\n",
       "    </tr>\n",
       "    <tr>\n",
       "      <th>4</th>\n",
       "      <td>35764</td>\n",
       "      <td>https://www.airbnb.com/rooms/35764</td>\n",
       "      <td>20210222161029</td>\n",
       "      <td>2021-02-23</td>\n",
       "      <td>COPACABANA SEA BREEZE  -  RIO - 20 X Superhost</td>\n",
       "      <td>Our newly renovated studio is located in the b...</td>\n",
       "      <td>Our guests will experience living with a local...</td>\n",
       "      <td>https://a0.muscache.com/pictures/23782972/1d3e...</td>\n",
       "      <td>153691</td>\n",
       "      <td>https://www.airbnb.com/users/show/153691</td>\n",
       "      <td>...</td>\n",
       "      <td>10.0</td>\n",
       "      <td>10.0</td>\n",
       "      <td>10.0</td>\n",
       "      <td>NaN</td>\n",
       "      <td>f</td>\n",
       "      <td>1</td>\n",
       "      <td>1</td>\n",
       "      <td>0</td>\n",
       "      <td>0</td>\n",
       "      <td>2.79</td>\n",
       "    </tr>\n",
       "  </tbody>\n",
       "</table>\n",
       "<p>5 rows × 74 columns</p>\n",
       "</div>"
      ],
      "text/plain": [
       "      id                         listing_url       scrape_id last_scraped  \\\n",
       "0  17878  https://www.airbnb.com/rooms/17878  20210222161029   2021-02-23   \n",
       "1  24480  https://www.airbnb.com/rooms/24480  20210222161029   2021-02-23   \n",
       "2  25026  https://www.airbnb.com/rooms/25026  20210222161029   2021-02-23   \n",
       "3  35636  https://www.airbnb.com/rooms/35636  20210222161029   2021-02-24   \n",
       "4  35764  https://www.airbnb.com/rooms/35764  20210222161029   2021-02-23   \n",
       "\n",
       "                                                name  \\\n",
       "0  Very Nice 2Br in Copacabana w. balcony, fast WiFi   \n",
       "1                   Nice and cozy near Ipanema Beach   \n",
       "2          Beautiful Modern Decorated Studio in Copa   \n",
       "3                   Cosy flat close to Ipanema beach   \n",
       "4     COPACABANA SEA BREEZE  -  RIO - 20 X Superhost   \n",
       "\n",
       "                                         description  \\\n",
       "0  Discounts for long term stays. <br />- Large b...   \n",
       "1  My studio is located in the best  of Ipanema. ...   \n",
       "2  Our apartment is a little gem, everyone loves ...   \n",
       "3  This cosy apartment  is just a few steps away ...   \n",
       "4  Our newly renovated studio is located in the b...   \n",
       "\n",
       "                               neighborhood_overview  \\\n",
       "0  This is the one of the bests spots in Rio. Bec...   \n",
       "1  The beach, the lagoon, Ipanema is a great loca...   \n",
       "2  Copacabana is a lively neighborhood and the ap...   \n",
       "3  The  apartment street is very quiet and safe ....   \n",
       "4  Our guests will experience living with a local...   \n",
       "\n",
       "                                         picture_url  host_id  \\\n",
       "0  https://a0.muscache.com/pictures/65320518/3069...    68997   \n",
       "1  https://a0.muscache.com/pictures/11955612/b28e...    99249   \n",
       "2  https://a0.muscache.com/pictures/3003965/68ebb...  3746246   \n",
       "3  https://a0.muscache.com/pictures/20009355/38b6...   153232   \n",
       "4  https://a0.muscache.com/pictures/23782972/1d3e...   153691   \n",
       "\n",
       "                                    host_url  ... review_scores_communication  \\\n",
       "0    https://www.airbnb.com/users/show/68997  ...                        10.0   \n",
       "1    https://www.airbnb.com/users/show/99249  ...                        10.0   \n",
       "2  https://www.airbnb.com/users/show/3746246  ...                        10.0   \n",
       "3   https://www.airbnb.com/users/show/153232  ...                        10.0   \n",
       "4   https://www.airbnb.com/users/show/153691  ...                        10.0   \n",
       "\n",
       "  review_scores_location review_scores_value license instant_bookable  \\\n",
       "0                   10.0                 9.0     NaN                t   \n",
       "1                   10.0                 9.0     NaN                f   \n",
       "2                   10.0                 9.0     NaN                f   \n",
       "3                   10.0                 9.0     NaN                f   \n",
       "4                   10.0                10.0     NaN                f   \n",
       "\n",
       "  calculated_host_listings_count calculated_host_listings_count_entire_homes  \\\n",
       "0                              1                                           1   \n",
       "1                              1                                           1   \n",
       "2                             11                                          11   \n",
       "3                              1                                           1   \n",
       "4                              1                                           1   \n",
       "\n",
       "  calculated_host_listings_count_private_rooms  \\\n",
       "0                                            0   \n",
       "1                                            0   \n",
       "2                                            0   \n",
       "3                                            0   \n",
       "4                                            0   \n",
       "\n",
       "  calculated_host_listings_count_shared_rooms reviews_per_month  \n",
       "0                                           0              2.01  \n",
       "1                                           0              0.67  \n",
       "2                                           0              1.82  \n",
       "3                                           0              2.02  \n",
       "4                                           0              2.79  \n",
       "\n",
       "[5 rows x 74 columns]"
      ]
     },
     "execution_count": 12,
     "metadata": {},
     "output_type": "execute_result"
    }
   ],
   "source": [
    "listings_df.head()"
   ]
  },
  {
   "cell_type": "code",
   "execution_count": 13,
   "metadata": {},
   "outputs": [
    {
     "name": "stdout",
     "output_type": "stream",
     "text": [
      "The dataset has 26615 listings and 74 columns.\n"
     ]
    }
   ],
   "source": [
    "lines, columns = listings_df.shape\n",
    "print(f'The dataset has {lines} listings and {columns} columns.')"
   ]
  },
  {
   "cell_type": "markdown",
   "metadata": {},
   "source": [
    "Let's start by investigating which are the 20 most listed neighbourhoods, for that I'm gonna use the `neighbourhood_cleansed` column."
   ]
  },
  {
   "cell_type": "code",
   "execution_count": 14,
   "metadata": {},
   "outputs": [
    {
     "data": {
      "image/png": "[encoded data removed]",
      "text/plain": [
       "<Figure size 432x288 with 1 Axes>"
      ]
     },
     "metadata": {
      "needs_background": "light"
     },
     "output_type": "display_data"
    }
   ],
   "source": [
    "plt.title('Listings per neighbourhood')\n",
    "listings_df['neighbourhood_cleansed'].value_counts()[:20].plot(kind='bar');"
   ]
  },
  {
   "cell_type": "markdown",
   "metadata": {},
   "source": [
    "It seems that Copacabana is the hotspot of the city. Now let's find the number of listed neighbourhoods."
   ]
  },
  {
   "cell_type": "code",
   "execution_count": 15,
   "metadata": {},
   "outputs": [
    {
     "name": "stdout",
     "output_type": "stream",
     "text": [
      "Rio has 151 listed neighbourhoods\n"
     ]
    }
   ],
   "source": [
    "count = len(listings_df['neighbourhood_cleansed'].unique())\n",
    "print('Rio has {} listed neighbourhoods'.format(count))"
   ]
  },
  {
   "cell_type": "markdown",
   "metadata": {},
   "source": [
    "The column `room_type` is worth taking a look, maybe it can tell a lot about the price of a listing. Let's take a closer look."
   ]
  },
  {
   "cell_type": "code",
   "execution_count": 16,
   "metadata": {},
   "outputs": [
    {
     "data": {
      "text/plain": [
       "array(['Entire home/apt', 'Private room', 'Shared room', 'Hotel room'],\n",
       "      dtype=object)"
      ]
     },
     "execution_count": 16,
     "metadata": {},
     "output_type": "execute_result"
    }
   ],
   "source": [
    "listings_df['room_type'].unique()"
   ]
  },
  {
   "cell_type": "markdown",
   "metadata": {},
   "source": [
    "As we could see, the column has 4 possible values, ranging from entire apartaments to shared rooms. Now, let's see what their value looks like by using the mean."
   ]
  },
  {
   "cell_type": "code",
   "execution_count": 17,
   "metadata": {},
   "outputs": [
    {
     "data": {
      "text/html": [
       "<div>\n",
       "<style scoped>\n",
       "    .dataframe tbody tr th:only-of-type {\n",
       "        vertical-align: middle;\n",
       "    }\n",
       "\n",
       "    .dataframe tbody tr th {\n",
       "        vertical-align: top;\n",
       "    }\n",
       "\n",
       "    .dataframe thead th {\n",
       "        text-align: right;\n",
       "    }\n",
       "</style>\n",
       "<table border=\"1\" class=\"dataframe\">\n",
       "  <thead>\n",
       "    <tr style=\"text-align: right;\">\n",
       "      <th></th>\n",
       "      <th>price</th>\n",
       "    </tr>\n",
       "    <tr>\n",
       "      <th>room_type</th>\n",
       "      <th></th>\n",
       "    </tr>\n",
       "  </thead>\n",
       "  <tbody>\n",
       "    <tr>\n",
       "      <th>Entire home/apt</th>\n",
       "      <td>823.069277</td>\n",
       "    </tr>\n",
       "    <tr>\n",
       "      <th>Hotel room</th>\n",
       "      <td>325.212121</td>\n",
       "    </tr>\n",
       "    <tr>\n",
       "      <th>Private room</th>\n",
       "      <td>448.315758</td>\n",
       "    </tr>\n",
       "    <tr>\n",
       "      <th>Shared room</th>\n",
       "      <td>1456.738562</td>\n",
       "    </tr>\n",
       "  </tbody>\n",
       "</table>\n",
       "</div>"
      ],
      "text/plain": [
       "                       price\n",
       "room_type                   \n",
       "Entire home/apt   823.069277\n",
       "Hotel room        325.212121\n",
       "Private room      448.315758\n",
       "Shared room      1456.738562"
      ]
     },
     "execution_count": 17,
     "metadata": {},
     "output_type": "execute_result"
    }
   ],
   "source": [
    "df_room = listings_summary_df[['room_type', 'price']]\n",
    "df_room.groupby(['room_type']).mean()"
   ]
  },
  {
   "cell_type": "markdown",
   "metadata": {},
   "source": [
    "It's really strange that `shared room` has the biggest mean, maybe it's some outlier, let's plot the prices by room type to check on that."
   ]
  },
  {
   "cell_type": "code",
   "execution_count": 18,
   "metadata": {},
   "outputs": [
    {
     "data": {
      "image/png": "[encoded data removed]",
      "text/plain": [
       "<Figure size 432x288 with 1 Axes>"
      ]
     },
     "metadata": {
      "needs_background": "light"
     },
     "output_type": "display_data"
    }
   ],
   "source": [
    "sns.scatterplot(x='room_type', y='price', data=listings_summary_df);"
   ]
  },
  {
   "cell_type": "markdown",
   "metadata": {},
   "source": [
    "There it is! It's a shared room costing over 600.000 reais. In this case, the **median** is more interesting to analyze the price, as it is less sensible to outliers. The outliers will be handled soon in preprocessing."
   ]
  },
  {
   "cell_type": "code",
   "execution_count": 19,
   "metadata": {},
   "outputs": [
    {
     "data": {
      "text/html": [
       "<div>\n",
       "<style scoped>\n",
       "    .dataframe tbody tr th:only-of-type {\n",
       "        vertical-align: middle;\n",
       "    }\n",
       "\n",
       "    .dataframe tbody tr th {\n",
       "        vertical-align: top;\n",
       "    }\n",
       "\n",
       "    .dataframe thead th {\n",
       "        text-align: right;\n",
       "    }\n",
       "</style>\n",
       "<table border=\"1\" class=\"dataframe\">\n",
       "  <thead>\n",
       "    <tr style=\"text-align: right;\">\n",
       "      <th></th>\n",
       "      <th>price</th>\n",
       "    </tr>\n",
       "    <tr>\n",
       "      <th>room_type</th>\n",
       "      <th></th>\n",
       "    </tr>\n",
       "  </thead>\n",
       "  <tbody>\n",
       "    <tr>\n",
       "      <th>Entire home/apt</th>\n",
       "      <td>350</td>\n",
       "    </tr>\n",
       "    <tr>\n",
       "      <th>Hotel room</th>\n",
       "      <td>183</td>\n",
       "    </tr>\n",
       "    <tr>\n",
       "      <th>Private room</th>\n",
       "      <td>160</td>\n",
       "    </tr>\n",
       "    <tr>\n",
       "      <th>Shared room</th>\n",
       "      <td>100</td>\n",
       "    </tr>\n",
       "  </tbody>\n",
       "</table>\n",
       "</div>"
      ],
      "text/plain": [
       "                 price\n",
       "room_type             \n",
       "Entire home/apt    350\n",
       "Hotel room         183\n",
       "Private room       160\n",
       "Shared room        100"
      ]
     },
     "execution_count": 19,
     "metadata": {},
     "output_type": "execute_result"
    }
   ],
   "source": [
    "df_room.groupby(['room_type']).median()"
   ]
  },
  {
   "cell_type": "markdown",
   "metadata": {},
   "source": [
    "Now we can conclude that entire apartaments are the **most expensive** listing type and shared rooms the **cheapest**. (IMHO hostels rocks =D)"
   ]
  },
  {
   "cell_type": "markdown",
   "metadata": {},
   "source": [
    "Now, let's take a look at the price column."
   ]
  },
  {
   "cell_type": "code",
   "execution_count": 20,
   "metadata": {},
   "outputs": [
    {
     "data": {
      "text/plain": [
       "0      $221.00\n",
       "1      $307.00\n",
       "2      $160.00\n",
       "3      $273.00\n",
       "4      $135.00\n",
       "5      $484.00\n",
       "6    $1,751.00\n",
       "7      $540.00\n",
       "8      $160.00\n",
       "9      $782.00\n",
       "Name: price, dtype: object"
      ]
     },
     "execution_count": 20,
     "metadata": {},
     "output_type": "execute_result"
    }
   ],
   "source": [
    "listings_df['price'][:10]"
   ]
  },
  {
   "cell_type": "markdown",
   "metadata": {},
   "source": [
    "As seem above, the price needs some formatting as a model can only deal with numbers. We need to:\n",
    "- Remove the `$` symbol\n",
    "- Remove the comma\n",
    "\n",
    "These steps will be done on preproccessing."
   ]
  },
  {
   "cell_type": "markdown",
   "metadata": {},
   "source": [
    "### Listing titles analysis "
   ]
  },
  {
   "cell_type": "markdown",
   "metadata": {},
   "source": [
    "In this part, I aim to investigate the most frequent words in listing titles, this way maybe we can find the most popular words. To do this, it's first necessary to convert titles to lower case in the cell below."
   ]
  },
  {
   "cell_type": "code",
   "execution_count": 21,
   "metadata": {},
   "outputs": [],
   "source": [
    "lowered_names = [name.lower() for name in listings_df['name'].astype('str')] "
   ]
  },
  {
   "cell_type": "code",
   "execution_count": 22,
   "metadata": {},
   "outputs": [
    {
     "data": {
      "image/png": "[encoded data removed]",
      "text/plain": [
       "<PIL.Image.Image image mode=RGB size=400x200 at 0x25849D5BB08>"
      ]
     },
     "execution_count": 22,
     "metadata": {},
     "output_type": "execute_result"
    }
   ],
   "source": [
    "long_string = ','.join(lowered_names)\n",
    "word_cloud = WordCloud(background_color=\"white\",\n",
    "                       max_words=100, contour_width=3,\n",
    "                       contour_color='steelblue')\n",
    "\n",
    "word_cloud.generate(long_string)\n",
    "word_cloud.to_image()"
   ]
  },
  {
   "cell_type": "markdown",
   "metadata": {},
   "source": [
    "In the word cloud, the bigger the word most frequent that word is. \n",
    "\n",
    "As Copacabana is the most common neighbor, it is not strange that it is among the most common words. The valuable information here is that hosts find it very important to put the location (Copacabana/Ipanema/Tijuca) or attraction (\"beach\") on the listing title. We have the first tip to new hosts on AirBnB: **in your listing title, describe some attractions on the listing name!**\n",
    "\n",
    "With this result, we can draw a hypothesis that an important feature to price is location. We will confirm later if that's the case or not."
   ]
  },
  {
   "cell_type": "markdown",
   "metadata": {},
   "source": [
    "### Finding the best moment to travel "
   ]
  },
  {
   "cell_type": "markdown",
   "metadata": {},
   "source": [
    "The calendar dataset contains daily prices of every listing present on listings.csv. The criteria used to define the best moment is: which period of the year has lower prices?"
   ]
  },
  {
   "cell_type": "code",
   "execution_count": 23,
   "metadata": {},
   "outputs": [
    {
     "data": {
      "text/html": [
       "<div>\n",
       "<style scoped>\n",
       "    .dataframe tbody tr th:only-of-type {\n",
       "        vertical-align: middle;\n",
       "    }\n",
       "\n",
       "    .dataframe tbody tr th {\n",
       "        vertical-align: top;\n",
       "    }\n",
       "\n",
       "    .dataframe thead th {\n",
       "        text-align: right;\n",
       "    }\n",
       "</style>\n",
       "<table border=\"1\" class=\"dataframe\">\n",
       "  <thead>\n",
       "    <tr style=\"text-align: right;\">\n",
       "      <th></th>\n",
       "      <th>listing_id</th>\n",
       "      <th>date</th>\n",
       "      <th>available</th>\n",
       "      <th>price</th>\n",
       "      <th>adjusted_price</th>\n",
       "      <th>minimum_nights</th>\n",
       "      <th>maximum_nights</th>\n",
       "    </tr>\n",
       "  </thead>\n",
       "  <tbody>\n",
       "    <tr>\n",
       "      <th>0</th>\n",
       "      <td>45766287</td>\n",
       "      <td>2021-02-23</td>\n",
       "      <td>f</td>\n",
       "      <td>$150.00</td>\n",
       "      <td>$150.00</td>\n",
       "      <td>2.0</td>\n",
       "      <td>1125.0</td>\n",
       "    </tr>\n",
       "    <tr>\n",
       "      <th>1</th>\n",
       "      <td>45764740</td>\n",
       "      <td>2021-02-24</td>\n",
       "      <td>f</td>\n",
       "      <td>$100.00</td>\n",
       "      <td>$100.00</td>\n",
       "      <td>1.0</td>\n",
       "      <td>4.0</td>\n",
       "    </tr>\n",
       "    <tr>\n",
       "      <th>2</th>\n",
       "      <td>45764740</td>\n",
       "      <td>2021-02-25</td>\n",
       "      <td>t</td>\n",
       "      <td>$100.00</td>\n",
       "      <td>$100.00</td>\n",
       "      <td>1.0</td>\n",
       "      <td>4.0</td>\n",
       "    </tr>\n",
       "    <tr>\n",
       "      <th>3</th>\n",
       "      <td>45764740</td>\n",
       "      <td>2021-02-26</td>\n",
       "      <td>t</td>\n",
       "      <td>$100.00</td>\n",
       "      <td>$100.00</td>\n",
       "      <td>1.0</td>\n",
       "      <td>4.0</td>\n",
       "    </tr>\n",
       "    <tr>\n",
       "      <th>4</th>\n",
       "      <td>45764740</td>\n",
       "      <td>2021-02-27</td>\n",
       "      <td>t</td>\n",
       "      <td>$100.00</td>\n",
       "      <td>$100.00</td>\n",
       "      <td>1.0</td>\n",
       "      <td>4.0</td>\n",
       "    </tr>\n",
       "  </tbody>\n",
       "</table>\n",
       "</div>"
      ],
      "text/plain": [
       "   listing_id        date available    price adjusted_price  minimum_nights  \\\n",
       "0    45766287  2021-02-23         f  $150.00        $150.00             2.0   \n",
       "1    45764740  2021-02-24         f  $100.00        $100.00             1.0   \n",
       "2    45764740  2021-02-25         t  $100.00        $100.00             1.0   \n",
       "3    45764740  2021-02-26         t  $100.00        $100.00             1.0   \n",
       "4    45764740  2021-02-27         t  $100.00        $100.00             1.0   \n",
       "\n",
       "   maximum_nights  \n",
       "0          1125.0  \n",
       "1             4.0  \n",
       "2             4.0  \n",
       "3             4.0  \n",
       "4             4.0  "
      ]
     },
     "execution_count": 23,
     "metadata": {},
     "output_type": "execute_result"
    }
   ],
   "source": [
    "calendar_df.head()"
   ]
  },
  {
   "cell_type": "markdown",
   "metadata": {},
   "source": [
    "First, it's necessary to format the `price` column. "
   ]
  },
  {
   "cell_type": "code",
   "execution_count": 24,
   "metadata": {},
   "outputs": [],
   "source": [
    "def transform_price(dataset):\n",
    "    dataset['price'] = [price[1:].replace(',','') for price in dataset['price'].astype(str)]\n",
    "    dataset['price'] = dataset['price'].astype(float)\n",
    "    \n",
    "calendar_df = calendar_df.dropna()\n",
    "transform_price(calendar_df)"
   ]
  },
  {
   "cell_type": "markdown",
   "metadata": {},
   "source": [
    "Creating a new column to indicate the month."
   ]
  },
  {
   "cell_type": "code",
   "execution_count": 25,
   "metadata": {},
   "outputs": [],
   "source": [
    "calendar_df['month'] = [date.strftime('%Y-%m') for date in pd.to_datetime(calendar_df['date'])]"
   ]
  },
  {
   "cell_type": "code",
   "execution_count": 26,
   "metadata": {},
   "outputs": [
    {
     "data": {
      "image/png": "[encoded data removed]",
      "text/plain": [
       "<Figure size 432x288 with 1 Axes>"
      ]
     },
     "metadata": {
      "needs_background": "light"
     },
     "output_type": "display_data"
    }
   ],
   "source": [
    "monthly_price = calendar_df[['month', 'price']].groupby(['month']).median()\n",
    "plt.xticks(rotation='vertical')\n",
    "plt.title('Median price monthly')\n",
    "sns.lineplot(data=monthly_price, x='month', y='price');"
   ]
  },
  {
   "cell_type": "markdown",
   "metadata": {},
   "source": [
    "The graph was made considering the monthly prices median during one year. \n",
    "\n",
    "The months from March to May have the lowest prices, which makes sense considering that it's an off-season period, and Brazilians tend to have vacations in July, where prices peak a little bit and it skyrockets by the end of the year, when a lot of people go to Rio to New Year's Eve. **So, considering this dataset, the months from March to May tend to have the lowest prices.**\n",
    "\n",
    "Disclaimer: it may be as well an effect of the COVID-19 pandemic. Now Brazil is in its worst scenario ever."
   ]
  },
  {
   "cell_type": "markdown",
   "metadata": {},
   "source": [
    "<a id=\"pp\"/>"
   ]
  },
  {
   "cell_type": "markdown",
   "metadata": {},
   "source": [
    "## Preprocessing "
   ]
  },
  {
   "cell_type": "code",
   "execution_count": 27,
   "metadata": {},
   "outputs": [
    {
     "name": "stdout",
     "output_type": "stream",
     "text": [
      "<class 'pandas.core.frame.DataFrame'>\n",
      "RangeIndex: 26615 entries, 0 to 26614\n",
      "Data columns (total 74 columns):\n",
      " #   Column                                        Non-Null Count  Dtype  \n",
      "---  ------                                        --------------  -----  \n",
      " 0   id                                            26615 non-null  int64  \n",
      " 1   listing_url                                   26615 non-null  object \n",
      " 2   scrape_id                                     26615 non-null  int64  \n",
      " 3   last_scraped                                  26615 non-null  object \n",
      " 4   name                                          26586 non-null  object \n",
      " 5   description                                   25160 non-null  object \n",
      " 6   neighborhood_overview                         14314 non-null  object \n",
      " 7   picture_url                                   26615 non-null  object \n",
      " 8   host_id                                       26615 non-null  int64  \n",
      " 9   host_url                                      26615 non-null  object \n",
      " 10  host_name                                     26591 non-null  object \n",
      " 11  host_since                                    26591 non-null  object \n",
      " 12  host_location                                 26508 non-null  object \n",
      " 13  host_about                                    12895 non-null  object \n",
      " 14  host_response_time                            18599 non-null  object \n",
      " 15  host_response_rate                            18599 non-null  object \n",
      " 16  host_acceptance_rate                          17074 non-null  object \n",
      " 17  host_is_superhost                             26591 non-null  object \n",
      " 18  host_thumbnail_url                            26591 non-null  object \n",
      " 19  host_picture_url                              26591 non-null  object \n",
      " 20  host_neighbourhood                            15344 non-null  object \n",
      " 21  host_listings_count                           26591 non-null  float64\n",
      " 22  host_total_listings_count                     26591 non-null  float64\n",
      " 23  host_verifications                            26615 non-null  object \n",
      " 24  host_has_profile_pic                          26591 non-null  object \n",
      " 25  host_identity_verified                        26591 non-null  object \n",
      " 26  neighbourhood                                 14314 non-null  object \n",
      " 27  neighbourhood_cleansed                        26615 non-null  object \n",
      " 28  neighbourhood_group_cleansed                  0 non-null      float64\n",
      " 29  latitude                                      26615 non-null  float64\n",
      " 30  longitude                                     26615 non-null  float64\n",
      " 31  property_type                                 26615 non-null  object \n",
      " 32  room_type                                     26615 non-null  object \n",
      " 33  accommodates                                  26615 non-null  int64  \n",
      " 34  bathrooms                                     0 non-null      float64\n",
      " 35  bathrooms_text                                26543 non-null  object \n",
      " 36  bedrooms                                      24869 non-null  float64\n",
      " 37  beds                                          26363 non-null  float64\n",
      " 38  amenities                                     26615 non-null  object \n",
      " 39  price                                         26615 non-null  object \n",
      " 40  minimum_nights                                26615 non-null  int64  \n",
      " 41  maximum_nights                                26615 non-null  int64  \n",
      " 42  minimum_minimum_nights                        26531 non-null  float64\n",
      " 43  maximum_minimum_nights                        26531 non-null  float64\n",
      " 44  minimum_maximum_nights                        26531 non-null  float64\n",
      " 45  maximum_maximum_nights                        26531 non-null  float64\n",
      " 46  minimum_nights_avg_ntm                        26531 non-null  float64\n",
      " 47  maximum_nights_avg_ntm                        26531 non-null  float64\n",
      " 48  calendar_updated                              0 non-null      float64\n",
      " 49  has_availability                              26615 non-null  object \n",
      " 50  availability_30                               26615 non-null  int64  \n",
      " 51  availability_60                               26615 non-null  int64  \n",
      " 52  availability_90                               26615 non-null  int64  \n",
      " 53  availability_365                              26615 non-null  int64  \n",
      " 54  calendar_last_scraped                         26615 non-null  object \n",
      " 55  number_of_reviews                             26615 non-null  int64  \n",
      " 56  number_of_reviews_ltm                         26615 non-null  int64  \n",
      " 57  number_of_reviews_l30d                        26615 non-null  int64  \n",
      " 58  first_review                                  16657 non-null  object \n",
      " 59  last_review                                   16657 non-null  object \n",
      " 60  review_scores_rating                          16118 non-null  float64\n",
      " 61  review_scores_accuracy                        16104 non-null  float64\n",
      " 62  review_scores_cleanliness                     16107 non-null  float64\n",
      " 63  review_scores_checkin                         16106 non-null  float64\n",
      " 64  review_scores_communication                   16110 non-null  float64\n",
      " 65  review_scores_location                        16106 non-null  float64\n",
      " 66  review_scores_value                           16108 non-null  float64\n",
      " 67  license                                       0 non-null      float64\n",
      " 68  instant_bookable                              26615 non-null  object \n",
      " 69  calculated_host_listings_count                26615 non-null  int64  \n",
      " 70  calculated_host_listings_count_entire_homes   26615 non-null  int64  \n",
      " 71  calculated_host_listings_count_private_rooms  26615 non-null  int64  \n",
      " 72  calculated_host_listings_count_shared_rooms   26615 non-null  int64  \n",
      " 73  reviews_per_month                             16657 non-null  float64\n",
      "dtypes: float64(24), int64(17), object(33)\n",
      "memory usage: 15.0+ MB\n"
     ]
    }
   ],
   "source": [
    "listings_df.info()"
   ]
  },
  {
   "cell_type": "markdown",
   "metadata": {},
   "source": [
    "As we can see, there are some empty columns like `neighbourhood_group_cleansed`, `bathrooms`, `calendar_updated` and `license`, these columns will be dropped in the column below along with columns associated to identification of any kind. "
   ]
  },
  {
   "cell_type": "code",
   "execution_count": 28,
   "metadata": {},
   "outputs": [],
   "source": [
    "listings_df = listings_df.drop(columns=['id', 'scrape_id', 'host_id', 'neighbourhood_group_cleansed', 'bathrooms', 'calendar_updated', 'license'])"
   ]
  },
  {
   "cell_type": "markdown",
   "metadata": {},
   "source": [
    "### Handling NaNs "
   ]
  },
  {
   "cell_type": "code",
   "execution_count": 30,
   "metadata": {},
   "outputs": [
    {
     "data": {
      "text/plain": [
       "listing_url                                         0\n",
       "last_scraped                                        0\n",
       "name                                               29\n",
       "description                                      1455\n",
       "neighborhood_overview                           12301\n",
       "picture_url                                         0\n",
       "host_url                                            0\n",
       "host_name                                          24\n",
       "host_since                                         24\n",
       "host_location                                     107\n",
       "host_about                                      13720\n",
       "host_response_time                               8016\n",
       "host_response_rate                               8016\n",
       "host_acceptance_rate                             9541\n",
       "host_is_superhost                                  24\n",
       "host_thumbnail_url                                 24\n",
       "host_picture_url                                   24\n",
       "host_neighbourhood                              11271\n",
       "host_listings_count                                24\n",
       "host_total_listings_count                          24\n",
       "host_verifications                                  0\n",
       "host_has_profile_pic                               24\n",
       "host_identity_verified                             24\n",
       "neighbourhood                                   12301\n",
       "neighbourhood_cleansed                              0\n",
       "latitude                                            0\n",
       "longitude                                           0\n",
       "property_type                                       0\n",
       "room_type                                           0\n",
       "accommodates                                        0\n",
       "                                                ...  \n",
       "minimum_minimum_nights                             84\n",
       "maximum_minimum_nights                             84\n",
       "minimum_maximum_nights                             84\n",
       "maximum_maximum_nights                             84\n",
       "minimum_nights_avg_ntm                             84\n",
       "maximum_nights_avg_ntm                             84\n",
       "has_availability                                    0\n",
       "availability_30                                     0\n",
       "availability_60                                     0\n",
       "availability_90                                     0\n",
       "availability_365                                    0\n",
       "calendar_last_scraped                               0\n",
       "number_of_reviews                                   0\n",
       "number_of_reviews_ltm                               0\n",
       "number_of_reviews_l30d                              0\n",
       "first_review                                     9958\n",
       "last_review                                      9958\n",
       "review_scores_rating                            10497\n",
       "review_scores_accuracy                          10511\n",
       "review_scores_cleanliness                       10508\n",
       "review_scores_checkin                           10509\n",
       "review_scores_communication                     10505\n",
       "review_scores_location                          10509\n",
       "review_scores_value                             10507\n",
       "instant_bookable                                    0\n",
       "calculated_host_listings_count                      0\n",
       "calculated_host_listings_count_entire_homes         0\n",
       "calculated_host_listings_count_private_rooms        0\n",
       "calculated_host_listings_count_shared_rooms         0\n",
       "reviews_per_month                                9958\n",
       "Length: 67, dtype: int64"
      ]
     },
     "execution_count": 30,
     "metadata": {},
     "output_type": "execute_result"
    }
   ],
   "source": [
    "pd.options.display.min_rows = 80\n",
    "listings_df.isnull().sum()"
   ]
  },
  {
   "cell_type": "markdown",
   "metadata": {},
   "source": [
    "The columns `host_name`, `name` and `description` will be dropped as a regression model can't make sense of text data. \n",
    "\n",
    "Any columns with urls will be dropped. "
   ]
  },
  {
   "cell_type": "code",
   "execution_count": 31,
   "metadata": {},
   "outputs": [],
   "source": [
    "listings_df = listings_df.drop(columns=['description', 'name', 'listing_url', 'host_url', 'picture_url', 'host_name'])"
   ]
  },
  {
   "cell_type": "markdown",
   "metadata": {},
   "source": [
    "In regards to NaNs in the `review_per_month` column, maybe it's because some listings never had a review, let's take a closer look by querying listings with 0 reviews."
   ]
  },
  {
   "cell_type": "code",
   "execution_count": 32,
   "metadata": {},
   "outputs": [
    {
     "data": {
      "text/plain": [
       "(9958, 61)"
      ]
     },
     "execution_count": 32,
     "metadata": {},
     "output_type": "execute_result"
    }
   ],
   "source": [
    "listings_df.query('number_of_reviews == 0').shape"
   ]
  },
  {
   "cell_type": "markdown",
   "metadata": {},
   "source": [
    "As we can see above, the number of listings with 0 reviews is **9958**, the exact value of NaNs in the `reviews_per_month` column, meaning that listings with 0 reviews received a NaN on the `reviews_per_month` column. As a model can't make sense of such value so I'll input it with 0. "
   ]
  },
  {
   "cell_type": "code",
   "execution_count": 33,
   "metadata": {},
   "outputs": [],
   "source": [
    "listings_df['reviews_per_month'] = listings_df['reviews_per_month'].fillna(0)"
   ]
  },
  {
   "cell_type": "markdown",
   "metadata": {},
   "source": [
    "Columns associated with review such as `'reviews_per_month', 'review_scores_rating','review_scores_accuracy','review_scores_cleanliness', 'review_scores_checkin', 'review_scores_communication', 'review_scores_location', 'review_scores_value', 'first_review' and 'last_review'` have so many NaNs that dropping those lines hardly would be beneficial as I would lose many other values in other columns, so I'll drop these columns. "
   ]
  },
  {
   "cell_type": "code",
   "execution_count": 34,
   "metadata": {},
   "outputs": [],
   "source": [
    "listings_df = listings_df.drop(columns=['first_review', 'last_review', 'reviews_per_month', 'review_scores_rating','review_scores_accuracy','review_scores_cleanliness',\n",
    "                                        'review_scores_checkin',  'review_scores_communication', 'review_scores_location', 'review_scores_value'])"
   ]
  },
  {
   "cell_type": "markdown",
   "metadata": {},
   "source": [
    "The columns `bedrooms` and `beds` have some NaNs, what doesn't make much sense, I'll consider these are listings that may have for example, a sofa other than a proper bed, and will fill NaNs with 1. For the bedrooms, I'll consider these are listings that don't have a bedroom space, for example a living room, and will fill this with 1 as well."
   ]
  },
  {
   "cell_type": "code",
   "execution_count": 35,
   "metadata": {},
   "outputs": [],
   "source": [
    "listings_df['bedrooms'] = listings_df['bedrooms'].fillna(1)\n",
    "listings_df['beds'] = listings_df['beds'].fillna(1)"
   ]
  },
  {
   "cell_type": "markdown",
   "metadata": {},
   "source": [
    "### Formatting columns "
   ]
  },
  {
   "cell_type": "markdown",
   "metadata": {},
   "source": [
    "Some columns need to be formatted:\n",
    "\n",
    "- `host_acceptance_rate` and `host_response_rate` are represented in percentages and the `%` symbol will be removed and transformed to float.\n",
    "- Many columns are represented with `True (t)` or `False(f)` values, in the cell below I make a function to transform these columns to a binary column.\n",
    "- The `amenities` column comes with a list of amenities, this column will be transformed to indicate the quantity of amenities a listing has.\n",
    "- The `baths` column is represented in plain text, assuming values such as `2 baths`, `1.5 baths` etc. This column will be transformed to keep only the numerical part as a float.\n",
    "- The `price` column needs to be formatted to remove the `$` symbol, the `transform_price()` method declared earlier will be used for that."
   ]
  },
  {
   "cell_type": "code",
   "execution_count": 36,
   "metadata": {},
   "outputs": [],
   "source": [
    "def transform_to_binary(column, dataset):\n",
    "    return [1 if line == 't' else 0 for line in dataset[column]]"
   ]
  },
  {
   "cell_type": "code",
   "execution_count": 37,
   "metadata": {},
   "outputs": [],
   "source": [
    "listings_df['host_acceptance_rate'] = listings_df['host_acceptance_rate'].str.strip('%').astype(float)\n",
    "listings_df['host_response_rate'] = listings_df['host_response_rate'].str.strip('%').astype(float)\n",
    "\n",
    "listings_df['host_is_superhost'] = transform_to_binary('host_is_superhost', listings_df)\n",
    "listings_df['instant_bookable'] = transform_to_binary('instant_bookable', listings_df)\n",
    "listings_df['host_identity_verified'] = transform_to_binary('host_identity_verified', listings_df)\n",
    "listings_df['instant_bookable'] = transform_to_binary('instant_bookable', listings_df)\n",
    "listings_df['host_has_profile_pic'] = transform_to_binary('host_has_profile_pic', listings_df)\n",
    "listings_df['has_availability'] = transform_to_binary('has_availability', listings_df)\n",
    "\n",
    "listings_df['baths'] = listings_df['bathrooms_text'].str.lower()\n",
    "listings_df['baths'] = listings_df['baths'].str.strip('baths')\n",
    "listings_df['baths'] = listings_df['baths'].str.strip('shared ')\n",
    "listings_df['baths'] = listings_df['baths'].str.strip('half-')\n",
    "listings_df['baths'] = listings_df['baths'].str.strip('private')\n",
    "listings_df['baths'] = [0 if value in ['', ' '] else value for value in listings_df['baths']]\n",
    "listings_df['baths'] = listings_df['baths'].astype(float)\n",
    "\n",
    "listings_df['amenities'] = [len(amenities_list.split(',')) for amenities_list in listings_df['amenities']]\n",
    "\n",
    "transform_price(listings_df)"
   ]
  },
  {
   "cell_type": "markdown",
   "metadata": {},
   "source": [
    "### Handling categorical variables "
   ]
  },
  {
   "cell_type": "markdown",
   "metadata": {},
   "source": [
    "Some categorical columns need to be handled, like `neighbourhood` and `room_type`. To handle this I'll use pandas built-in function `get_dummies()` that transforms each value in a column to a new binary columns indicating the presence or not of that value. An example can be seen below.\n",
    "\n",
    "\n",
    "![dummies](images/dummies.png)"
   ]
  },
  {
   "cell_type": "code",
   "execution_count": 38,
   "metadata": {},
   "outputs": [],
   "source": [
    "dummy_df = pd.get_dummies(data=listings_df, columns=['room_type'])"
   ]
  },
  {
   "cell_type": "markdown",
   "metadata": {},
   "source": [
    "Initially, I transformed the `neighbourhood` column with `get_dummies()` but that created 151 new columns, which made the models really slow to train. I could still try ordinal encoding but it does't make sense considering there isn't a natural order of importance on neighbours names, so I decided to drop this column."
   ]
  },
  {
   "cell_type": "code",
   "execution_count": 39,
   "metadata": {},
   "outputs": [],
   "source": [
    "dummy_df = dummy_df.drop(columns=['neighbourhood'])"
   ]
  },
  {
   "cell_type": "markdown",
   "metadata": {},
   "source": [
    "### Handling outliers"
   ]
  },
  {
   "cell_type": "markdown",
   "metadata": {},
   "source": [
    "Let's first take a look at `price`, our target variable, and `beds`."
   ]
  },
  {
   "cell_type": "code",
   "execution_count": 40,
   "metadata": {},
   "outputs": [
    {
     "data": {
      "image/png": "[encoded data removed]",
      "text/plain": [
       "<Figure size 432x288 with 1 Axes>"
      ]
     },
     "metadata": {
      "needs_background": "light"
     },
     "output_type": "display_data"
    }
   ],
   "source": [
    "sns.boxplot(data=dummy_df, x='price');"
   ]
  },
  {
   "cell_type": "code",
   "execution_count": 41,
   "metadata": {},
   "outputs": [
    {
     "data": {
      "image/png": "[encoded data removed]",
      "text/plain": [
       "<Figure size 432x288 with 1 Axes>"
      ]
     },
     "metadata": {
      "needs_background": "light"
     },
     "output_type": "display_data"
    }
   ],
   "source": [
    "sns.boxplot(data=dummy_df, x='beds');"
   ]
  },
  {
   "cell_type": "markdown",
   "metadata": {},
   "source": [
    "As we can see there are a lot of outliers! As linear models are very sensible to outliers I'll remove it using [Interquartile Range](https://en.wikipedia.org/wiki/Interquartile_range) defined in the method below. \n",
    "\n",
    "At first I tried removing outliers using only standard deviation, but that was giving me terrible results on R2 square when training the models. "
   ]
  },
  {
   "cell_type": "code",
   "execution_count": 42,
   "metadata": {},
   "outputs": [
    {
     "name": "stdout",
     "output_type": "stream",
     "text": [
      "Price fence: 1139.5, beds fence: 6.0\n"
     ]
    }
   ],
   "source": [
    "def get_max_fence(dataset, column):\n",
    "    quartiles = dataset[column].quantile([0.25,0.75])\n",
    "    first_quartile, third_quartile = quartiles.values[0], quartiles.values[1]\n",
    "    interquartile_range = third_quartile - first_quartile\n",
    "    max_fence = third_quartile + 1.5*(interquartile_range)\n",
    "    return max_fence\n",
    "\n",
    "price_fence = get_max_fence(dummy_df, 'price')\n",
    "beds_fence = get_max_fence(dummy_df, 'beds')\n",
    "\n",
    "print(f'Price fence: {price_fence}, beds fence: {beds_fence}')"
   ]
  },
  {
   "cell_type": "markdown",
   "metadata": {},
   "source": [
    "Now I'll drop that any line where price <= R$1139 and beds <= 6.  "
   ]
  },
  {
   "cell_type": "code",
   "execution_count": 43,
   "metadata": {},
   "outputs": [],
   "source": [
    "model_df = dummy_df.query(f'price <= {price_fence} & beds <= {beds_fence}')"
   ]
  },
  {
   "cell_type": "code",
   "execution_count": 44,
   "metadata": {},
   "outputs": [
    {
     "name": "stdout",
     "output_type": "stream",
     "text": [
      "<class 'pandas.core.frame.DataFrame'>\n",
      "Int64Index: 23234 entries, 0 to 26614\n",
      "Data columns (total 54 columns):\n",
      " #   Column                                        Non-Null Count  Dtype  \n",
      "---  ------                                        --------------  -----  \n",
      " 0   last_scraped                                  23234 non-null  object \n",
      " 1   neighborhood_overview                         12900 non-null  object \n",
      " 2   host_since                                    23214 non-null  object \n",
      " 3   host_location                                 23148 non-null  object \n",
      " 4   host_about                                    11281 non-null  object \n",
      " 5   host_response_time                            16717 non-null  object \n",
      " 6   host_response_rate                            16717 non-null  float64\n",
      " 7   host_acceptance_rate                          15539 non-null  float64\n",
      " 8   host_is_superhost                             23234 non-null  int64  \n",
      " 9   host_thumbnail_url                            23214 non-null  object \n",
      " 10  host_picture_url                              23214 non-null  object \n",
      " 11  host_neighbourhood                            13510 non-null  object \n",
      " 12  host_listings_count                           23214 non-null  float64\n",
      " 13  host_total_listings_count                     23214 non-null  float64\n",
      " 14  host_verifications                            23234 non-null  object \n",
      " 15  host_has_profile_pic                          23234 non-null  int64  \n",
      " 16  host_identity_verified                        23234 non-null  int64  \n",
      " 17  neighbourhood_cleansed                        23234 non-null  object \n",
      " 18  latitude                                      23234 non-null  float64\n",
      " 19  longitude                                     23234 non-null  float64\n",
      " 20  property_type                                 23234 non-null  object \n",
      " 21  accommodates                                  23234 non-null  int64  \n",
      " 22  bathrooms_text                                23171 non-null  object \n",
      " 23  bedrooms                                      23234 non-null  float64\n",
      " 24  beds                                          23234 non-null  float64\n",
      " 25  amenities                                     23234 non-null  int64  \n",
      " 26  price                                         23234 non-null  float64\n",
      " 27  minimum_nights                                23234 non-null  int64  \n",
      " 28  maximum_nights                                23234 non-null  int64  \n",
      " 29  minimum_minimum_nights                        23158 non-null  float64\n",
      " 30  maximum_minimum_nights                        23158 non-null  float64\n",
      " 31  minimum_maximum_nights                        23158 non-null  float64\n",
      " 32  maximum_maximum_nights                        23158 non-null  float64\n",
      " 33  minimum_nights_avg_ntm                        23158 non-null  float64\n",
      " 34  maximum_nights_avg_ntm                        23158 non-null  float64\n",
      " 35  has_availability                              23234 non-null  int64  \n",
      " 36  availability_30                               23234 non-null  int64  \n",
      " 37  availability_60                               23234 non-null  int64  \n",
      " 38  availability_90                               23234 non-null  int64  \n",
      " 39  availability_365                              23234 non-null  int64  \n",
      " 40  calendar_last_scraped                         23234 non-null  object \n",
      " 41  number_of_reviews                             23234 non-null  int64  \n",
      " 42  number_of_reviews_ltm                         23234 non-null  int64  \n",
      " 43  number_of_reviews_l30d                        23234 non-null  int64  \n",
      " 44  instant_bookable                              23234 non-null  int64  \n",
      " 45  calculated_host_listings_count                23234 non-null  int64  \n",
      " 46  calculated_host_listings_count_entire_homes   23234 non-null  int64  \n",
      " 47  calculated_host_listings_count_private_rooms  23234 non-null  int64  \n",
      " 48  calculated_host_listings_count_shared_rooms   23234 non-null  int64  \n",
      " 49  baths                                         23171 non-null  float64\n",
      " 50  room_type_Entire home/apt                     23234 non-null  uint8  \n",
      " 51  room_type_Hotel room                          23234 non-null  uint8  \n",
      " 52  room_type_Private room                        23234 non-null  uint8  \n",
      " 53  room_type_Shared room                         23234 non-null  uint8  \n",
      "dtypes: float64(16), int64(20), object(14), uint8(4)\n",
      "memory usage: 9.1+ MB\n"
     ]
    }
   ],
   "source": [
    "model_df.info()"
   ]
  },
  {
   "cell_type": "markdown",
   "metadata": {},
   "source": [
    "<a id=\"modeling\"/>"
   ]
  },
  {
   "cell_type": "markdown",
   "metadata": {},
   "source": [
    "## Modeling"
   ]
  },
  {
   "cell_type": "markdown",
   "metadata": {},
   "source": [
    "Let's keep only the numerical columns."
   ]
  },
  {
   "cell_type": "code",
   "execution_count": 45,
   "metadata": {},
   "outputs": [],
   "source": [
    "model_df = model_df.select_dtypes(exclude='object')"
   ]
  },
  {
   "cell_type": "markdown",
   "metadata": {},
   "source": [
    "And fill the remaining NaNs with its column mean."
   ]
  },
  {
   "cell_type": "code",
   "execution_count": 46,
   "metadata": {},
   "outputs": [],
   "source": [
    "fill_mean = lambda col: col.fillna(col.mean())\n",
    "model_df = model_df.apply(fill_mean, axis=0)"
   ]
  },
  {
   "cell_type": "markdown",
   "metadata": {},
   "source": [
    "For a comparison, I selected three ensemble methods, that combine many estimators together aiming a good generability as the famous Random Forest and Extra Trees. I give a special highlight to Histogram-based Gradient Boosting Regression, inspired by the fast and lightweight LightGBM, that performed the best."
   ]
  },
  {
   "cell_type": "markdown",
   "metadata": {},
   "source": [
    "I used Standard Scaler, that tranforms features to a normally distributed feature, as many machine learning estimators expect this. For splitting, I chose a test size of 30%. To avoid data leak from training to test set, I used sklearn standard `Pipeline` class."
   ]
  },
  {
   "cell_type": "code",
   "execution_count": 51,
   "metadata": {},
   "outputs": [],
   "source": [
    "from sklearn.experimental import enable_hist_gradient_boosting\n",
    "from sklearn.linear_model import LinearRegression\n",
    "from sklearn.ensemble import RandomForestRegressor, ExtraTreesRegressor, HistGradientBoostingRegressor\n",
    "from sklearn.metrics import r2_score, mean_squared_error, mean_squared_error, mean_absolute_error\n",
    "from sklearn.model_selection import train_test_split\n",
    "from sklearn.preprocessing import StandardScaler\n",
    "from sklearn.pipeline import Pipeline\n",
    "import numpy as np\n",
    "\n",
    "\n",
    "X = model_df.drop(columns=['price'])\n",
    "y = model_df['price']\n",
    "\n",
    "X_train, X_test, y_train, y_test = train_test_split(X, y, test_size=.3, random_state=33)\n",
    "\n",
    "def evaluate(model):\n",
    "    scaler = StandardScaler()\n",
    "    pipeline = Pipeline([('scaler', scaler), ('model', model)])\n",
    "    pipeline.fit(X_train, y_train)\n",
    "    preds = pipeline.predict(X_test)\n",
    "    r2 = r2_score(y_test, preds)\n",
    "    mse = mean_squared_error(y_test, preds)\n",
    "    rmse = np.sqrt(mse)\n",
    "    mae = mean_absolute_error(y_test, preds)\n",
    "    print('R2: {:.2f}, MSE: {:.2f}, RMSE: {:.2f}, MAE: {:.2f}'\n",
    "          .format(r2, mse, rmse, mae))\n",
    "    return pipeline"
   ]
  },
  {
   "cell_type": "code",
   "execution_count": 53,
   "metadata": {},
   "outputs": [
    {
     "name": "stdout",
     "output_type": "stream",
     "text": [
      "R2: 0.49, MSE: 30990.59, RMSE: 176.04, MAE: 123.49\n",
      "R2: 0.52, MSE: 29354.02, RMSE: 171.33, MAE: 118.82\n",
      "R2: 0.48, MSE: 31339.15, RMSE: 177.03, MAE: 125.05\n",
      "R2: -56831.90, MSE: 3449278141.89, RMSE: 58730.56, MAE: 851.23\n"
     ]
    }
   ],
   "source": [
    "extra_trees = evaluate(ExtraTreesRegressor())\n",
    "lgbm = evaluate(HistGradientBoostingRegressor())\n",
    "random_forest = evaluate(RandomForestRegressor())"
   ]
  },
  {
   "cell_type": "markdown",
   "metadata": {},
   "source": [
    "As we can see above, LightGBM performed the best, with a R2 score of 0.52. And the worst was Random Forest. "
   ]
  },
  {
   "cell_type": "markdown",
   "metadata": {},
   "source": [
    "### Model explanability"
   ]
  },
  {
   "cell_type": "markdown",
   "metadata": {},
   "source": [
    "As a way to explain models behavior, it's interesting to plot the most important features with sci-kit built-in `feature_importances_` attributes on tree based models. The bigger the value, more important that feature is to a listing price."
   ]
  },
  {
   "cell_type": "code",
   "execution_count": 54,
   "metadata": {},
   "outputs": [],
   "source": [
    "def plot_feature_importances(model):\n",
    "    importances = pd.DataFrame(model['model'].feature_importances_, index = X_train.columns,\n",
    "                               columns=['importance']).sort_values('importance', ascending=False)\n",
    "    sns.barplot(y=importances.index[:15], x=importances['importance'][:15])\n",
    "    plt.title('Top 15 features')\n",
    "    plt.ylabel('feature')"
   ]
  },
  {
   "cell_type": "code",
   "execution_count": 55,
   "metadata": {},
   "outputs": [
    {
     "data": {
      "image/png": "[encoded data removed]",
      "text/plain": [
       "<Figure size 432x288 with 1 Axes>"
      ]
     },
     "metadata": {
      "needs_background": "light"
     },
     "output_type": "display_data"
    }
   ],
   "source": [
    "plot_feature_importances(extra_trees)"
   ]
  },
  {
   "cell_type": "code",
   "execution_count": 56,
   "metadata": {},
   "outputs": [
    {
     "data": {
      "image/png": "[encoded data removed]",
      "text/plain": [
       "<Figure size 432x288 with 1 Axes>"
      ]
     },
     "metadata": {
      "needs_background": "light"
     },
     "output_type": "display_data"
    }
   ],
   "source": [
    "plot_feature_importances(random_forest)"
   ]
  },
  {
   "cell_type": "markdown",
   "metadata": {},
   "source": [
    "From both graphs, we can notice that `bedroom` and `accommodates` converged to be an important feature to predict prices. `Baths` played an important role on the Extra Trees model but not in Random Forest.\n",
    "\n",
    "And surprisingly, `latitude` and `longitude` had some significant influence, with these results I can affirm that **location definitely has a moderate influence on listing prices, but no more than the number of bedrooms or the number of people it accommodates**.   "
   ]
  },
  {
   "cell_type": "markdown",
   "metadata": {},
   "source": [
    "<a id=\"challenges\"/>"
   ]
  },
  {
   "cell_type": "markdown",
   "metadata": {},
   "source": [
    "## Challenges and future work"
   ]
  },
  {
   "cell_type": "markdown",
   "metadata": {},
   "source": [
    "It was especially challenging to find a suitable method for removing outliers. The R2 score of 0.52 could be better. I tried to merge the calendar dataset with listings, but it ended up having too many lines, and it was impossible to train a model without getting out of RAM, even in Google Colab. As an interesting future work, this could be addressed maybe with some data engineering practices/frameworks. "
   ]
  },
  {
   "cell_type": "markdown",
   "metadata": {},
   "source": [
    "<a id=\"ack\"/>"
   ]
  },
  {
   "cell_type": "markdown",
   "metadata": {},
   "source": [
    "## Acknowledgements"
   ]
  },
  {
   "cell_type": "markdown",
   "metadata": {},
   "source": [
    "Kudos to this [notebook](https://www.kaggle.com/allanbruno/helping-regular-people-price-listings-on-airbnb) from Allan Bruno, where I could find a functional way to remove outliers properly! \n",
    "\n",
    "To the awesome [Inside Airbnb](http://insideairbnb.com/) for providing the datasets!"
   ]
  }
 ],
 "metadata": {
  "kernelspec": {
   "display_name": "Python 3",
   "language": "python",
   "name": "python3"
  },
  "language_info": {
   "codemirror_mode": {
    "name": "ipython",
    "version": 3
   },
   "file_extension": ".py",
   "mimetype": "text/x-python",
   "name": "python",
   "nbconvert_exporter": "python",
   "pygments_lexer": "ipython3",
   "version": "3.7.4"
  }
 },
 "nbformat": 4,
 "nbformat_minor": 4
}

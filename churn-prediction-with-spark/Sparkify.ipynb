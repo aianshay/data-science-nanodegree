{
 "cells": [
  {
   "cell_type": "markdown",
   "metadata": {},
   "source": [
    "# Sparkify Project \n",
    "This workspace contains a tiny subset (128MB) of the full dataset available (12GB). Feel free to use this workspace to build your project, or to explore a smaller subset with Spark before deploying your cluster on the cloud. Instructions for setting up your Spark cluster is included in the last lesson of the Extracurricular Spark Course content.\n",
    "\n",
    "You can follow the steps below to guide your data analysis and model building portion of this project."
   ]
  },
  {
   "cell_type": "code",
   "execution_count": 1,
   "metadata": {},
   "outputs": [],
   "source": [
    "# import libraries\n",
    "from pyspark.sql import SparkSession\n",
    "from pyspark.sql.functions import udf\n",
    "from pyspark.sql.types import IntegerType\n",
    "\n",
    "from pyspark.ml.classification import RandomForestClassifier\n",
    "from pyspark.ml.evaluation import MulticlassClassificationEvaluator\n",
    "from pyspark.ml.feature import StandardScaler, VectorAssembler\n",
    "from pyspark.ml.tuning import CrossValidator, ParamGridBuilder\n",
    "\n",
    "from datetime import datetime"
   ]
  },
  {
   "cell_type": "code",
   "execution_count": 2,
   "metadata": {},
   "outputs": [],
   "source": [
    "# create a Spark session\n",
    "spark = SparkSession.builder \\\n",
    "    .master(\"local\") \\\n",
    "    .appName(\"Creating Features\") \\\n",
    "    .getOrCreate()"
   ]
  },
  {
   "cell_type": "markdown",
   "metadata": {},
   "source": [
    "# Load and Clean Dataset"
   ]
  },
  {
   "cell_type": "code",
   "execution_count": 3,
   "metadata": {},
   "outputs": [
    {
     "data": {
      "text/plain": [
       "['artist',\n",
       " 'auth',\n",
       " 'firstName',\n",
       " 'gender',\n",
       " 'itemInSession',\n",
       " 'lastName',\n",
       " 'length',\n",
       " 'level',\n",
       " 'location',\n",
       " 'method',\n",
       " 'page',\n",
       " 'registration',\n",
       " 'sessionId',\n",
       " 'song',\n",
       " 'status',\n",
       " 'ts',\n",
       " 'userAgent',\n",
       " 'userId']"
      ]
     },
     "execution_count": 3,
     "metadata": {},
     "output_type": "execute_result"
    }
   ],
   "source": [
    "df = spark.read.json('mini_sparkify_event_data.json')\n",
    "df.columns"
   ]
  },
  {
   "cell_type": "code",
   "execution_count": 4,
   "metadata": {},
   "outputs": [],
   "source": [
    "df.createOrReplaceTempView('sparkify_data')"
   ]
  },
  {
   "cell_type": "markdown",
   "metadata": {},
   "source": [
    "# Exploratory Data Analysis\n",
    "When you're working with the full dataset, perform EDA by loading a small subset of the data and doing basic manipulations within Spark. In this workspace, you are already provided a small subset of data you can explore.\n",
    "\n",
    "### Define Churn\n",
    "\n",
    "Once you've done some preliminary analysis, create a column `Churn` to use as the label for your model. I suggest using the `Cancellation Confirmation` events to define your churn, which happen for both paid and free users. As a bonus task, you can also look into the `Downgrade` events.\n",
    "\n",
    "### Explore Data\n",
    "Once you've defined churn, perform some exploratory data analysis to observe the behavior for users who stayed vs users who churned. You can start by exploring aggregates on these two groups of users, observing how much of a specific action they experienced per a certain time unit or number of songs played."
   ]
  },
  {
   "cell_type": "code",
   "execution_count": 5,
   "metadata": {},
   "outputs": [
    {
     "data": {
      "text/html": [
       "<div>\n",
       "<style scoped>\n",
       "    .dataframe tbody tr th:only-of-type {\n",
       "        vertical-align: middle;\n",
       "    }\n",
       "\n",
       "    .dataframe tbody tr th {\n",
       "        vertical-align: top;\n",
       "    }\n",
       "\n",
       "    .dataframe thead th {\n",
       "        text-align: right;\n",
       "    }\n",
       "</style>\n",
       "<table border=\"1\" class=\"dataframe\">\n",
       "  <thead>\n",
       "    <tr style=\"text-align: right;\">\n",
       "      <th></th>\n",
       "      <th>artist</th>\n",
       "      <th>auth</th>\n",
       "      <th>firstName</th>\n",
       "      <th>gender</th>\n",
       "      <th>itemInSession</th>\n",
       "      <th>lastName</th>\n",
       "      <th>length</th>\n",
       "      <th>level</th>\n",
       "      <th>location</th>\n",
       "      <th>method</th>\n",
       "      <th>page</th>\n",
       "      <th>registration</th>\n",
       "      <th>sessionId</th>\n",
       "      <th>song</th>\n",
       "      <th>status</th>\n",
       "      <th>ts</th>\n",
       "      <th>userAgent</th>\n",
       "      <th>userId</th>\n",
       "    </tr>\n",
       "  </thead>\n",
       "  <tbody>\n",
       "    <tr>\n",
       "      <th>0</th>\n",
       "      <td>Martha Tilston</td>\n",
       "      <td>Logged In</td>\n",
       "      <td>Colin</td>\n",
       "      <td>M</td>\n",
       "      <td>50</td>\n",
       "      <td>Freeman</td>\n",
       "      <td>277.89016</td>\n",
       "      <td>paid</td>\n",
       "      <td>Bakersfield, CA</td>\n",
       "      <td>PUT</td>\n",
       "      <td>NextSong</td>\n",
       "      <td>1.538173e+12</td>\n",
       "      <td>29</td>\n",
       "      <td>Rockpools</td>\n",
       "      <td>200</td>\n",
       "      <td>1538352117000</td>\n",
       "      <td>Mozilla/5.0 (Windows NT 6.1; WOW64; rv:31.0) G...</td>\n",
       "      <td>30</td>\n",
       "    </tr>\n",
       "    <tr>\n",
       "      <th>1</th>\n",
       "      <td>Five Iron Frenzy</td>\n",
       "      <td>Logged In</td>\n",
       "      <td>Micah</td>\n",
       "      <td>M</td>\n",
       "      <td>79</td>\n",
       "      <td>Long</td>\n",
       "      <td>236.09424</td>\n",
       "      <td>free</td>\n",
       "      <td>Boston-Cambridge-Newton, MA-NH</td>\n",
       "      <td>PUT</td>\n",
       "      <td>NextSong</td>\n",
       "      <td>1.538332e+12</td>\n",
       "      <td>8</td>\n",
       "      <td>Canada</td>\n",
       "      <td>200</td>\n",
       "      <td>1538352180000</td>\n",
       "      <td>\"Mozilla/5.0 (Windows NT 6.1; WOW64) AppleWebK...</td>\n",
       "      <td>9</td>\n",
       "    </tr>\n",
       "    <tr>\n",
       "      <th>2</th>\n",
       "      <td>Adam Lambert</td>\n",
       "      <td>Logged In</td>\n",
       "      <td>Colin</td>\n",
       "      <td>M</td>\n",
       "      <td>51</td>\n",
       "      <td>Freeman</td>\n",
       "      <td>282.82730</td>\n",
       "      <td>paid</td>\n",
       "      <td>Bakersfield, CA</td>\n",
       "      <td>PUT</td>\n",
       "      <td>NextSong</td>\n",
       "      <td>1.538173e+12</td>\n",
       "      <td>29</td>\n",
       "      <td>Time For Miracles</td>\n",
       "      <td>200</td>\n",
       "      <td>1538352394000</td>\n",
       "      <td>Mozilla/5.0 (Windows NT 6.1; WOW64; rv:31.0) G...</td>\n",
       "      <td>30</td>\n",
       "    </tr>\n",
       "    <tr>\n",
       "      <th>3</th>\n",
       "      <td>Enigma</td>\n",
       "      <td>Logged In</td>\n",
       "      <td>Micah</td>\n",
       "      <td>M</td>\n",
       "      <td>80</td>\n",
       "      <td>Long</td>\n",
       "      <td>262.71302</td>\n",
       "      <td>free</td>\n",
       "      <td>Boston-Cambridge-Newton, MA-NH</td>\n",
       "      <td>PUT</td>\n",
       "      <td>NextSong</td>\n",
       "      <td>1.538332e+12</td>\n",
       "      <td>8</td>\n",
       "      <td>Knocking On Forbidden Doors</td>\n",
       "      <td>200</td>\n",
       "      <td>1538352416000</td>\n",
       "      <td>\"Mozilla/5.0 (Windows NT 6.1; WOW64) AppleWebK...</td>\n",
       "      <td>9</td>\n",
       "    </tr>\n",
       "    <tr>\n",
       "      <th>4</th>\n",
       "      <td>Daft Punk</td>\n",
       "      <td>Logged In</td>\n",
       "      <td>Colin</td>\n",
       "      <td>M</td>\n",
       "      <td>52</td>\n",
       "      <td>Freeman</td>\n",
       "      <td>223.60771</td>\n",
       "      <td>paid</td>\n",
       "      <td>Bakersfield, CA</td>\n",
       "      <td>PUT</td>\n",
       "      <td>NextSong</td>\n",
       "      <td>1.538173e+12</td>\n",
       "      <td>29</td>\n",
       "      <td>Harder Better Faster Stronger</td>\n",
       "      <td>200</td>\n",
       "      <td>1538352676000</td>\n",
       "      <td>Mozilla/5.0 (Windows NT 6.1; WOW64; rv:31.0) G...</td>\n",
       "      <td>30</td>\n",
       "    </tr>\n",
       "  </tbody>\n",
       "</table>\n",
       "</div>"
      ],
      "text/plain": [
       "             artist       auth firstName gender  itemInSession lastName  \\\n",
       "0    Martha Tilston  Logged In     Colin      M             50  Freeman   \n",
       "1  Five Iron Frenzy  Logged In     Micah      M             79     Long   \n",
       "2      Adam Lambert  Logged In     Colin      M             51  Freeman   \n",
       "3            Enigma  Logged In     Micah      M             80     Long   \n",
       "4         Daft Punk  Logged In     Colin      M             52  Freeman   \n",
       "\n",
       "      length level                        location method      page  \\\n",
       "0  277.89016  paid                 Bakersfield, CA    PUT  NextSong   \n",
       "1  236.09424  free  Boston-Cambridge-Newton, MA-NH    PUT  NextSong   \n",
       "2  282.82730  paid                 Bakersfield, CA    PUT  NextSong   \n",
       "3  262.71302  free  Boston-Cambridge-Newton, MA-NH    PUT  NextSong   \n",
       "4  223.60771  paid                 Bakersfield, CA    PUT  NextSong   \n",
       "\n",
       "   registration  sessionId                           song  status  \\\n",
       "0  1.538173e+12         29                      Rockpools     200   \n",
       "1  1.538332e+12          8                         Canada     200   \n",
       "2  1.538173e+12         29              Time For Miracles     200   \n",
       "3  1.538332e+12          8    Knocking On Forbidden Doors     200   \n",
       "4  1.538173e+12         29  Harder Better Faster Stronger     200   \n",
       "\n",
       "              ts                                          userAgent userId  \n",
       "0  1538352117000  Mozilla/5.0 (Windows NT 6.1; WOW64; rv:31.0) G...     30  \n",
       "1  1538352180000  \"Mozilla/5.0 (Windows NT 6.1; WOW64) AppleWebK...      9  \n",
       "2  1538352394000  Mozilla/5.0 (Windows NT 6.1; WOW64; rv:31.0) G...     30  \n",
       "3  1538352416000  \"Mozilla/5.0 (Windows NT 6.1; WOW64) AppleWebK...      9  \n",
       "4  1538352676000  Mozilla/5.0 (Windows NT 6.1; WOW64; rv:31.0) G...     30  "
      ]
     },
     "execution_count": 5,
     "metadata": {},
     "output_type": "execute_result"
    }
   ],
   "source": [
    "df.toPandas().head()"
   ]
  },
  {
   "cell_type": "code",
   "execution_count": 6,
   "metadata": {},
   "outputs": [
    {
     "data": {
      "text/plain": [
       "286500"
      ]
     },
     "execution_count": 6,
     "metadata": {},
     "output_type": "execute_result"
    }
   ],
   "source": [
    "#number of lines\n",
    "df.count()"
   ]
  },
  {
   "cell_type": "code",
   "execution_count": 7,
   "metadata": {},
   "outputs": [
    {
     "name": "stdout",
     "output_type": "stream",
     "text": [
      "root\n",
      " |-- artist: string (nullable = true)\n",
      " |-- auth: string (nullable = true)\n",
      " |-- firstName: string (nullable = true)\n",
      " |-- gender: string (nullable = true)\n",
      " |-- itemInSession: long (nullable = true)\n",
      " |-- lastName: string (nullable = true)\n",
      " |-- length: double (nullable = true)\n",
      " |-- level: string (nullable = true)\n",
      " |-- location: string (nullable = true)\n",
      " |-- method: string (nullable = true)\n",
      " |-- page: string (nullable = true)\n",
      " |-- registration: long (nullable = true)\n",
      " |-- sessionId: long (nullable = true)\n",
      " |-- song: string (nullable = true)\n",
      " |-- status: long (nullable = true)\n",
      " |-- ts: long (nullable = true)\n",
      " |-- userAgent: string (nullable = true)\n",
      " |-- userId: string (nullable = true)\n",
      "\n"
     ]
    }
   ],
   "source": [
    "#checking columns properties\n",
    "df.printSchema()"
   ]
  },
  {
   "cell_type": "markdown",
   "metadata": {},
   "source": [
    "Let's count the number of times each user appears:"
   ]
  },
  {
   "cell_type": "code",
   "execution_count": 11,
   "metadata": {},
   "outputs": [
    {
     "name": "stdout",
     "output_type": "stream",
     "text": [
      "+------+-----+\n",
      "|userId|count|\n",
      "+------+-----+\n",
      "|    39| 9632|\n",
      "|      | 8346|\n",
      "|    92| 7230|\n",
      "|   140| 6880|\n",
      "|300011| 5732|\n",
      "|   124| 4825|\n",
      "|300021| 4659|\n",
      "|300017| 4428|\n",
      "|    85| 4370|\n",
      "|    42| 4257|\n",
      "|200023| 3769|\n",
      "|     6| 3761|\n",
      "|    29| 3603|\n",
      "|    54| 3437|\n",
      "|   100| 3214|\n",
      "|     9| 3191|\n",
      "|   126| 3102|\n",
      "|300015| 3051|\n",
      "|    91| 3014|\n",
      "|    98| 2891|\n",
      "+------+-----+\n",
      "only showing top 20 rows\n",
      "\n"
     ]
    }
   ],
   "source": [
    "spark.sql(\"\"\"select userId, count(userId) as count\n",
    "             from sparkify_data\n",
    "             group by userId\n",
    "             order by count desc\"\"\").show()"
   ]
  },
  {
   "cell_type": "markdown",
   "metadata": {},
   "source": [
    "There seems to exist a user with no id, I'll investigate this later."
   ]
  },
  {
   "cell_type": "code",
   "execution_count": 12,
   "metadata": {},
   "outputs": [
    {
     "name": "stdout",
     "output_type": "stream",
     "text": [
      "+----------------------+\n",
      "|count(DISTINCT userId)|\n",
      "+----------------------+\n",
      "|                   226|\n",
      "+----------------------+\n",
      "\n"
     ]
    }
   ],
   "source": [
    "#number of unique users\n",
    "spark.sql(\"\"\"select count (distinct userId) from sparkify_data\"\"\").show()"
   ]
  },
  {
   "cell_type": "markdown",
   "metadata": {},
   "source": [
    "Now let's check how frequent each page is in the dataset:"
   ]
  },
  {
   "cell_type": "code",
   "execution_count": 13,
   "metadata": {},
   "outputs": [
    {
     "data": {
      "text/html": [
       "<div>\n",
       "<style scoped>\n",
       "    .dataframe tbody tr th:only-of-type {\n",
       "        vertical-align: middle;\n",
       "    }\n",
       "\n",
       "    .dataframe tbody tr th {\n",
       "        vertical-align: top;\n",
       "    }\n",
       "\n",
       "    .dataframe thead th {\n",
       "        text-align: right;\n",
       "    }\n",
       "</style>\n",
       "<table border=\"1\" class=\"dataframe\">\n",
       "  <thead>\n",
       "    <tr style=\"text-align: right;\">\n",
       "      <th></th>\n",
       "      <th>page</th>\n",
       "      <th>count</th>\n",
       "    </tr>\n",
       "  </thead>\n",
       "  <tbody>\n",
       "    <tr>\n",
       "      <th>0</th>\n",
       "      <td>NextSong</td>\n",
       "      <td>228108</td>\n",
       "    </tr>\n",
       "    <tr>\n",
       "      <th>1</th>\n",
       "      <td>Home</td>\n",
       "      <td>14457</td>\n",
       "    </tr>\n",
       "    <tr>\n",
       "      <th>2</th>\n",
       "      <td>Thumbs Up</td>\n",
       "      <td>12551</td>\n",
       "    </tr>\n",
       "    <tr>\n",
       "      <th>3</th>\n",
       "      <td>Add to Playlist</td>\n",
       "      <td>6526</td>\n",
       "    </tr>\n",
       "    <tr>\n",
       "      <th>4</th>\n",
       "      <td>Add Friend</td>\n",
       "      <td>4277</td>\n",
       "    </tr>\n",
       "    <tr>\n",
       "      <th>5</th>\n",
       "      <td>Roll Advert</td>\n",
       "      <td>3933</td>\n",
       "    </tr>\n",
       "    <tr>\n",
       "      <th>6</th>\n",
       "      <td>Login</td>\n",
       "      <td>3241</td>\n",
       "    </tr>\n",
       "    <tr>\n",
       "      <th>7</th>\n",
       "      <td>Logout</td>\n",
       "      <td>3226</td>\n",
       "    </tr>\n",
       "    <tr>\n",
       "      <th>8</th>\n",
       "      <td>Thumbs Down</td>\n",
       "      <td>2546</td>\n",
       "    </tr>\n",
       "    <tr>\n",
       "      <th>9</th>\n",
       "      <td>Downgrade</td>\n",
       "      <td>2055</td>\n",
       "    </tr>\n",
       "    <tr>\n",
       "      <th>10</th>\n",
       "      <td>Help</td>\n",
       "      <td>1726</td>\n",
       "    </tr>\n",
       "    <tr>\n",
       "      <th>11</th>\n",
       "      <td>Settings</td>\n",
       "      <td>1514</td>\n",
       "    </tr>\n",
       "    <tr>\n",
       "      <th>12</th>\n",
       "      <td>About</td>\n",
       "      <td>924</td>\n",
       "    </tr>\n",
       "    <tr>\n",
       "      <th>13</th>\n",
       "      <td>Upgrade</td>\n",
       "      <td>499</td>\n",
       "    </tr>\n",
       "    <tr>\n",
       "      <th>14</th>\n",
       "      <td>Save Settings</td>\n",
       "      <td>310</td>\n",
       "    </tr>\n",
       "    <tr>\n",
       "      <th>15</th>\n",
       "      <td>Error</td>\n",
       "      <td>258</td>\n",
       "    </tr>\n",
       "    <tr>\n",
       "      <th>16</th>\n",
       "      <td>Submit Upgrade</td>\n",
       "      <td>159</td>\n",
       "    </tr>\n",
       "    <tr>\n",
       "      <th>17</th>\n",
       "      <td>Submit Downgrade</td>\n",
       "      <td>63</td>\n",
       "    </tr>\n",
       "    <tr>\n",
       "      <th>18</th>\n",
       "      <td>Cancel</td>\n",
       "      <td>52</td>\n",
       "    </tr>\n",
       "    <tr>\n",
       "      <th>19</th>\n",
       "      <td>Cancellation Confirmation</td>\n",
       "      <td>52</td>\n",
       "    </tr>\n",
       "    <tr>\n",
       "      <th>20</th>\n",
       "      <td>Register</td>\n",
       "      <td>18</td>\n",
       "    </tr>\n",
       "    <tr>\n",
       "      <th>21</th>\n",
       "      <td>Submit Registration</td>\n",
       "      <td>5</td>\n",
       "    </tr>\n",
       "  </tbody>\n",
       "</table>\n",
       "</div>"
      ],
      "text/plain": [
       "                         page   count\n",
       "0                    NextSong  228108\n",
       "1                        Home   14457\n",
       "2                   Thumbs Up   12551\n",
       "3             Add to Playlist    6526\n",
       "4                  Add Friend    4277\n",
       "5                 Roll Advert    3933\n",
       "6                       Login    3241\n",
       "7                      Logout    3226\n",
       "8                 Thumbs Down    2546\n",
       "9                   Downgrade    2055\n",
       "10                       Help    1726\n",
       "11                   Settings    1514\n",
       "12                      About     924\n",
       "13                    Upgrade     499\n",
       "14              Save Settings     310\n",
       "15                      Error     258\n",
       "16             Submit Upgrade     159\n",
       "17           Submit Downgrade      63\n",
       "18                     Cancel      52\n",
       "19  Cancellation Confirmation      52\n",
       "20                   Register      18\n",
       "21        Submit Registration       5"
      ]
     },
     "execution_count": 13,
     "metadata": {},
     "output_type": "execute_result"
    }
   ],
   "source": [
    "spark.sql(\"\"\"select page, count(page) as count\n",
    "             from sparkify_data\n",
    "             group by page\n",
    "             order by count desc\"\"\").toPandas()"
   ]
  },
  {
   "cell_type": "code",
   "execution_count": 6,
   "metadata": {},
   "outputs": [
    {
     "name": "stdout",
     "output_type": "stream",
     "text": [
      "+-----+------+\n",
      "|level| count|\n",
      "+-----+------+\n",
      "| free| 58338|\n",
      "| paid|228162|\n",
      "+-----+------+\n",
      "\n"
     ]
    }
   ],
   "source": [
    "#proportion of paid/free users\n",
    "df.groupBy('level').count().show()"
   ]
  },
  {
   "cell_type": "code",
   "execution_count": 10,
   "metadata": {},
   "outputs": [
    {
     "name": "stdout",
     "output_type": "stream",
     "text": [
      "+-----+------------+\n",
      "|level|count(level)|\n",
      "+-----+------------+\n",
      "| free|       58338|\n",
      "| paid|      228162|\n",
      "+-----+------------+\n",
      "\n"
     ]
    }
   ],
   "source": [
    "spark.sql(\"\"\"select level, count(level)\n",
    "             from sparkify_data\n",
    "             group by level\"\"\").show()"
   ]
  },
  {
   "cell_type": "code",
   "execution_count": 7,
   "metadata": {},
   "outputs": [
    {
     "name": "stdout",
     "output_type": "stream",
     "text": [
      "+------+------+\n",
      "|gender| count|\n",
      "+------+------+\n",
      "|     F|154578|\n",
      "|  null|  8346|\n",
      "|     M|123576|\n",
      "+------+------+\n",
      "\n"
     ]
    }
   ],
   "source": [
    "df.groupBy('gender').count().show()"
   ]
  },
  {
   "cell_type": "markdown",
   "metadata": {},
   "source": [
    "It seems that users without Id also don't have gender assigned. Let's drop them."
   ]
  },
  {
   "cell_type": "code",
   "execution_count": 8,
   "metadata": {},
   "outputs": [
    {
     "data": {
      "text/plain": [
       "278154"
      ]
     },
     "execution_count": 8,
     "metadata": {},
     "output_type": "execute_result"
    }
   ],
   "source": [
    "drop_df = df.filter(df.userId != \"\")\n",
    "drop_df.count()"
   ]
  },
  {
   "cell_type": "code",
   "execution_count": 11,
   "metadata": {},
   "outputs": [
    {
     "name": "stdout",
     "output_type": "stream",
     "text": [
      "+------+------+\n",
      "|gender| count|\n",
      "+------+------+\n",
      "|     F|154578|\n",
      "|     M|123576|\n",
      "+------+------+\n",
      "\n"
     ]
    }
   ],
   "source": [
    "drop_df.groupBy('gender').count().show()"
   ]
  },
  {
   "cell_type": "code",
   "execution_count": 9,
   "metadata": {},
   "outputs": [],
   "source": [
    "#defining churn as every user who confirmed a cancellation\n",
    "churn = udf(lambda x: 1 if x == 'Cancellation Confirmation' else 0)\n",
    "\n",
    "df_2 = drop_df.withColumn('churn_flag', churn(df.page))"
   ]
  },
  {
   "cell_type": "code",
   "execution_count": 10,
   "metadata": {},
   "outputs": [
    {
     "name": "stdout",
     "output_type": "stream",
     "text": [
      "root\n",
      " |-- artist: string (nullable = true)\n",
      " |-- auth: string (nullable = true)\n",
      " |-- firstName: string (nullable = true)\n",
      " |-- gender: string (nullable = true)\n",
      " |-- itemInSession: long (nullable = true)\n",
      " |-- lastName: string (nullable = true)\n",
      " |-- length: double (nullable = true)\n",
      " |-- level: string (nullable = true)\n",
      " |-- location: string (nullable = true)\n",
      " |-- method: string (nullable = true)\n",
      " |-- page: string (nullable = true)\n",
      " |-- registration: long (nullable = true)\n",
      " |-- sessionId: long (nullable = true)\n",
      " |-- song: string (nullable = true)\n",
      " |-- status: long (nullable = true)\n",
      " |-- ts: long (nullable = true)\n",
      " |-- userAgent: string (nullable = true)\n",
      " |-- userId: string (nullable = true)\n",
      " |-- churn_flag: string (nullable = true)\n",
      "\n"
     ]
    }
   ],
   "source": [
    "df_2.printSchema()"
   ]
  },
  {
   "cell_type": "code",
   "execution_count": 12,
   "metadata": {},
   "outputs": [],
   "source": [
    "df_2.createOrReplaceTempView('sparkify_data_churn')"
   ]
  },
  {
   "cell_type": "code",
   "execution_count": 15,
   "metadata": {},
   "outputs": [
    {
     "name": "stdout",
     "output_type": "stream",
     "text": [
      "+----------+-----------------+\n",
      "|churn_flag|count(churn_flag)|\n",
      "+----------+-----------------+\n",
      "|         0|           278102|\n",
      "|         1|               52|\n",
      "+----------+-----------------+\n",
      "\n"
     ]
    }
   ],
   "source": [
    "spark.sql(\"\"\"select churn_flag, count(churn_flag)\n",
    "          from sparkify_data_churn\n",
    "          group by churn_flag\"\"\").show()"
   ]
  },
  {
   "cell_type": "code",
   "execution_count": 16,
   "metadata": {},
   "outputs": [
    {
     "name": "stdout",
     "output_type": "stream",
     "text": [
      "+----------+------+-------------+\n",
      "|churn_flag|gender|count(gender)|\n",
      "+----------+------+-------------+\n",
      "|         0|     M|       123544|\n",
      "|         1|     M|           32|\n",
      "|         0|     F|       154558|\n",
      "|         1|     F|           20|\n",
      "+----------+------+-------------+\n",
      "\n"
     ]
    }
   ],
   "source": [
    "spark.sql(\"\"\"select churn_flag, gender, count(gender)\n",
    "             from sparkify_data_churn\n",
    "             group by churn_flag, gender\"\"\").show()"
   ]
  },
  {
   "cell_type": "code",
   "execution_count": 17,
   "metadata": {},
   "outputs": [
    {
     "name": "stdout",
     "output_type": "stream",
     "text": [
      "+----------+-----+------------+\n",
      "|churn_flag|level|count(level)|\n",
      "+----------+-----+------------+\n",
      "|         0| paid|      222402|\n",
      "|         1| paid|          31|\n",
      "|         0| free|       55700|\n",
      "|         1| free|          21|\n",
      "+----------+-----+------------+\n",
      "\n"
     ]
    }
   ],
   "source": [
    "spark.sql(\"\"\"select churn_flag, level, count(level)\n",
    "             from sparkify_data_churn\n",
    "             group by churn_flag, level\"\"\").show()"
   ]
  },
  {
   "cell_type": "markdown",
   "metadata": {},
   "source": [
    "# Feature Engineering\n",
    "Once you've familiarized yourself with the data, build out the features you find promising to train your model on. To work with the full dataset, you can follow the following steps.\n",
    "- Write a script to extract the necessary features from the smaller subset of data\n",
    "- Ensure that your script is scalable, using the best practices discussed in Lesson 3\n",
    "- Try your script on the full data set, debugging your script if necessary\n",
    "\n",
    "If you are working in the classroom workspace, you can just extract features based on the small subset of data contained here. Be sure to transfer over this work to the larger dataset when you work on your Spark cluster."
   ]
  },
  {
   "cell_type": "markdown",
   "metadata": {},
   "source": [
    "From the observed pages it's possible to make the following features:\n",
    "\n",
    "- listening time per user\n",
    "- days since registration\n",
    "- number of sessions\n",
    "- number of songs per user\n",
    "- number of thumbs up \n",
    "- number of thumbs down\n",
    "- number of added friends"
   ]
  },
  {
   "cell_type": "markdown",
   "metadata": {},
   "source": [
    "### Calculating listening time"
   ]
  },
  {
   "cell_type": "code",
   "execution_count": 13,
   "metadata": {},
   "outputs": [
    {
     "name": "stdout",
     "output_type": "stream",
     "text": [
      "+------+------------------+\n",
      "|userId|    listening_time|\n",
      "+------+------------------+\n",
      "|100010| 66940.89735000003|\n",
      "|200002| 94008.87593999993|\n",
      "|   125|2089.1131000000005|\n",
      "|    51| 523275.8428000004|\n",
      "|   124|1012312.0927899999|\n",
      "|     7| 38034.08710000002|\n",
      "|    54| 711344.9195400011|\n",
      "|    15|477307.60581000015|\n",
      "|   155|       198779.2919|\n",
      "|   132| 483118.9038399997|\n",
      "|   154|20660.023910000007|\n",
      "|100014| 67703.47208000004|\n",
      "|   101| 447464.0146699989|\n",
      "|    11|159669.96303999983|\n",
      "|   138| 512449.8827599989|\n",
      "|300017| 897406.9802100015|\n",
      "|    29| 754517.5625700009|\n",
      "|    69| 286064.0256399999|\n",
      "|100021| 57633.17563999999|\n",
      "|    42| 881792.9661300007|\n",
      "+------+------------------+\n",
      "only showing top 20 rows\n",
      "\n"
     ]
    }
   ],
   "source": [
    "listening_time = spark.sql(\"\"\"select userId, sum(length) as listening_time  \n",
    "                              from sparkify_data_churn\n",
    "                              where page = 'NextSong'\n",
    "                              group by userId\"\"\")\n",
    "\n",
    "listening_time.show()"
   ]
  },
  {
   "cell_type": "markdown",
   "metadata": {},
   "source": [
    "### Calculating number of thumbs up"
   ]
  },
  {
   "cell_type": "code",
   "execution_count": 14,
   "metadata": {},
   "outputs": [
    {
     "name": "stdout",
     "output_type": "stream",
     "text": [
      "+------+---------+\n",
      "|userId|thumbs_up|\n",
      "+------+---------+\n",
      "|100010|       17|\n",
      "|200002|       21|\n",
      "|    51|      100|\n",
      "|   124|      171|\n",
      "|     7|        7|\n",
      "|    54|      163|\n",
      "|    15|       81|\n",
      "|   155|       58|\n",
      "|   132|       96|\n",
      "|   154|       11|\n",
      "|100014|       17|\n",
      "|   101|       86|\n",
      "|    11|       40|\n",
      "|   138|       95|\n",
      "|300017|      303|\n",
      "|    29|      154|\n",
      "|    69|       72|\n",
      "|100021|       11|\n",
      "|    42|      166|\n",
      "|   112|        9|\n",
      "+------+---------+\n",
      "only showing top 20 rows\n",
      "\n"
     ]
    }
   ],
   "source": [
    "thumbs_up = spark.sql(\"\"\"select userId, count(page) as thumbs_up  \n",
    "                         from sparkify_data_churn\n",
    "                         where page = 'Thumbs Up'\n",
    "                         group by userId\"\"\")\n",
    "\n",
    "thumbs_up.show()"
   ]
  },
  {
   "cell_type": "markdown",
   "metadata": {},
   "source": [
    "### Calculating number of thumbs down"
   ]
  },
  {
   "cell_type": "code",
   "execution_count": 15,
   "metadata": {},
   "outputs": [
    {
     "name": "stdout",
     "output_type": "stream",
     "text": [
      "+------+-----------+\n",
      "|userId|thumbs_down|\n",
      "+------+-----------+\n",
      "|100010|          5|\n",
      "|200002|          6|\n",
      "|    51|         21|\n",
      "|   124|         41|\n",
      "|     7|          1|\n",
      "|    15|         14|\n",
      "|    54|         29|\n",
      "|   155|          3|\n",
      "|   132|         17|\n",
      "|100014|          3|\n",
      "|   101|         16|\n",
      "|    11|          9|\n",
      "|   138|         24|\n",
      "|300017|         28|\n",
      "|    29|         22|\n",
      "|    69|          9|\n",
      "|100021|          5|\n",
      "|    42|         25|\n",
      "|   112|          3|\n",
      "|    73|          7|\n",
      "+------+-----------+\n",
      "only showing top 20 rows\n",
      "\n"
     ]
    }
   ],
   "source": [
    "thumbs_down = spark.sql(\"\"\"select userId, count(page) as thumbs_down \n",
    "                           from sparkify_data_churn\n",
    "                           where page = 'Thumbs Down'\n",
    "                           group by userId\"\"\")\n",
    "\n",
    "thumbs_down.show()"
   ]
  },
  {
   "cell_type": "markdown",
   "metadata": {},
   "source": [
    "### Calculating number of friends"
   ]
  },
  {
   "cell_type": "code",
   "execution_count": 16,
   "metadata": {},
   "outputs": [
    {
     "name": "stdout",
     "output_type": "stream",
     "text": [
      "+------+-------+\n",
      "|userId|friends|\n",
      "+------+-------+\n",
      "|100010|      4|\n",
      "|200002|      4|\n",
      "|    51|     28|\n",
      "|   124|     74|\n",
      "|     7|      1|\n",
      "|    54|     33|\n",
      "|    15|     31|\n",
      "|   155|     11|\n",
      "|   132|     41|\n",
      "|   154|      3|\n",
      "|100014|      6|\n",
      "|   101|     29|\n",
      "|    11|      6|\n",
      "|   138|     41|\n",
      "|300017|     63|\n",
      "|    29|     47|\n",
      "|    69|     12|\n",
      "|100021|      7|\n",
      "|    42|     52|\n",
      "|   112|      7|\n",
      "+------+-------+\n",
      "only showing top 20 rows\n",
      "\n"
     ]
    }
   ],
   "source": [
    "friends = spark.sql(\"\"\"select userId, count(page) as friends  \n",
    "                       from sparkify_data_churn\n",
    "                       where page = 'Add Friend'\n",
    "                       group by userId\"\"\")\n",
    "friends.show()"
   ]
  },
  {
   "cell_type": "markdown",
   "metadata": {},
   "source": [
    "### Calculating number of sessions per user"
   ]
  },
  {
   "cell_type": "code",
   "execution_count": 17,
   "metadata": {},
   "outputs": [
    {
     "name": "stdout",
     "output_type": "stream",
     "text": [
      "+------+--------+\n",
      "|userId|sessions|\n",
      "+------+--------+\n",
      "|100010|       7|\n",
      "|200002|       6|\n",
      "|   125|       1|\n",
      "|    51|      10|\n",
      "|   124|      29|\n",
      "|     7|       7|\n",
      "|    54|      37|\n",
      "|    15|      15|\n",
      "|   155|       6|\n",
      "|100014|       6|\n",
      "|   132|      16|\n",
      "|   154|       3|\n",
      "|   101|      10|\n",
      "|    11|      16|\n",
      "|300017|      63|\n",
      "|   138|      15|\n",
      "|    29|      34|\n",
      "|    69|       9|\n",
      "|100021|       5|\n",
      "|    42|      47|\n",
      "+------+--------+\n",
      "only showing top 20 rows\n",
      "\n"
     ]
    }
   ],
   "source": [
    "sessions = spark.sql(\"\"\"select userId, count(distinct sessionId) as sessions  \n",
    "                        from sparkify_data_churn\n",
    "                        group by userId\"\"\")\n",
    "sessions.show()"
   ]
  },
  {
   "cell_type": "markdown",
   "metadata": {},
   "source": [
    "### Calculating number of listened songs per user"
   ]
  },
  {
   "cell_type": "code",
   "execution_count": 18,
   "metadata": {},
   "outputs": [
    {
     "name": "stdout",
     "output_type": "stream",
     "text": [
      "+------+-----------+\n",
      "|userId|total_songs|\n",
      "+------+-----------+\n",
      "|100010|        275|\n",
      "|200002|        387|\n",
      "|   125|          8|\n",
      "|    51|       2111|\n",
      "|   124|       4079|\n",
      "|     7|        150|\n",
      "|    54|       2841|\n",
      "|    15|       1914|\n",
      "|   155|        820|\n",
      "|   132|       1928|\n",
      "|   154|         84|\n",
      "|100014|        257|\n",
      "|   101|       1797|\n",
      "|    11|        647|\n",
      "|   138|       2070|\n",
      "|300017|       3632|\n",
      "|    29|       3028|\n",
      "|    69|       1125|\n",
      "|100021|        230|\n",
      "|    42|       3573|\n",
      "+------+-----------+\n",
      "only showing top 20 rows\n",
      "\n"
     ]
    }
   ],
   "source": [
    "songs = spark.sql(\"\"\"select userId, count(Song) as total_songs  \n",
    "                     from sparkify_data_churn\n",
    "                     group by userId\"\"\")\n",
    "\n",
    "songs.show()"
   ]
  },
  {
   "cell_type": "markdown",
   "metadata": {},
   "source": [
    "### Calculating number of active days for each user "
   ]
  },
  {
   "cell_type": "code",
   "execution_count": 19,
   "metadata": {},
   "outputs": [],
   "source": [
    "active = spark.sql(\"\"\"select userId, min(registration) as created, max(ts) as last_session \n",
    "                   from sparkify_data_churn\n",
    "                   group by userId\"\"\")"
   ]
  },
  {
   "cell_type": "code",
   "execution_count": 20,
   "metadata": {},
   "outputs": [],
   "source": [
    "def compute_active_days(created, last_session):\n",
    "    \"\"\"Calculates the difference between an account date of registration and\n",
    "        its most recent login date.\n",
    "        \n",
    "        Parameters:\n",
    "        -----------\n",
    "        created\n",
    "            date of creation timestamp : str\n",
    "        last_session\n",
    "            last login date : str\n",
    "            \n",
    "        Returns:\n",
    "        --------\n",
    "        active_days : int\n",
    "            number of active days\n",
    "        \"\"\"\n",
    "    \n",
    "    created = int(created)/1000\n",
    "    last_session = int(last_session)/1000\n",
    "    \n",
    "    active_days = (datetime.fromtimestamp(last_session) - datetime.fromtimestamp(created)).days\n",
    "    return active_days\n",
    "\n",
    "active_days = udf(compute_active_days, IntegerType())\n",
    "active = active.withColumn(\"active_days\", active_days(active.created, active.last_session))"
   ]
  },
  {
   "cell_type": "code",
   "execution_count": 21,
   "metadata": {},
   "outputs": [
    {
     "name": "stdout",
     "output_type": "stream",
     "text": [
      "+------+-------------+-------------+-----------+\n",
      "|userId|      created| last_session|active_days|\n",
      "+------+-------------+-------------+-----------+\n",
      "|100010|1538016340000|1542823952000|         55|\n",
      "|200002|1536269906000|1542324354000|         70|\n",
      "|   125|1533157139000|1539318918000|         71|\n",
      "|    51|1538080987000|1539761972000|         19|\n",
      "|   124|1532224335000|1543590766000|        131|\n",
      "|     7|1536667576000|1542955611000|         72|\n",
      "|    54|1532482662000|1542051608000|        110|\n",
      "|    15|1538239045000|1543121818000|         56|\n",
      "|   155|1541370470000|1543405710000|         23|\n",
      "|   132|1537054553000|1542833772000|         66|\n",
      "|   154|1541268021000|1543330565000|         23|\n",
      "|100014|1535389443000|1542740649000|         85|\n",
      "|   101|1535066380000|1539729037000|         53|\n",
      "|    11|1532554781000|1543309702000|        124|\n",
      "|   138|1537865819000|1543622365000|         66|\n",
      "|300017|1537082511000|1543507087000|         74|\n",
      "|    29|1536988041000|1542181031000|         60|\n",
      "|    69|1536824159000|1542995231000|         71|\n",
      "|100021|1537550344000|1543143782000|         64|\n",
      "|    42|1537811988000|1543610607000|         67|\n",
      "+------+-------------+-------------+-----------+\n",
      "only showing top 20 rows\n",
      "\n"
     ]
    }
   ],
   "source": [
    "active.show()"
   ]
  },
  {
   "cell_type": "markdown",
   "metadata": {},
   "source": [
    "### Churn flag"
   ]
  },
  {
   "cell_type": "code",
   "execution_count": 22,
   "metadata": {},
   "outputs": [
    {
     "name": "stdout",
     "output_type": "stream",
     "text": [
      "+------+-----+\n",
      "|userId|churn|\n",
      "+------+-----+\n",
      "|100010|    0|\n",
      "|200002|    0|\n",
      "|   125|    1|\n",
      "|   124|    0|\n",
      "|    51|    1|\n",
      "|     7|    0|\n",
      "|    15|    0|\n",
      "|    54|    1|\n",
      "|   155|    0|\n",
      "|100014|    1|\n",
      "|   132|    0|\n",
      "|   154|    0|\n",
      "|   101|    1|\n",
      "|    11|    0|\n",
      "|   138|    0|\n",
      "|300017|    0|\n",
      "|100021|    1|\n",
      "|    29|    1|\n",
      "|    69|    0|\n",
      "|   112|    0|\n",
      "+------+-----+\n",
      "only showing top 20 rows\n",
      "\n"
     ]
    }
   ],
   "source": [
    "churn = spark.sql(\"\"\"select userId, max(churn_flag) as churn\n",
    "                     from sparkify_data_churn\n",
    "                     group by UserId\"\"\")\n",
    "churn.show()"
   ]
  },
  {
   "cell_type": "code",
   "execution_count": 23,
   "metadata": {},
   "outputs": [],
   "source": [
    "user_data = listening_time.join(thumbs_up, on='userId', how='outer')\\\n",
    "                         .join(thumbs_down, on='userId', how='outer')\\\n",
    "                         .join(songs, on='userId', how='outer')\\\n",
    "                         .join(sessions, on='userId', how='outer')\\\n",
    "                         .join(friends, on='userId', how='outer')\\\n",
    "                         .join(active, on='userId', how='outer')\\\n",
    "                         .join(churn, on='userId', how='outer')"
   ]
  },
  {
   "cell_type": "code",
   "execution_count": 24,
   "metadata": {},
   "outputs": [
    {
     "data": {
      "text/html": [
       "<div>\n",
       "<style scoped>\n",
       "    .dataframe tbody tr th:only-of-type {\n",
       "        vertical-align: middle;\n",
       "    }\n",
       "\n",
       "    .dataframe tbody tr th {\n",
       "        vertical-align: top;\n",
       "    }\n",
       "\n",
       "    .dataframe thead th {\n",
       "        text-align: right;\n",
       "    }\n",
       "</style>\n",
       "<table border=\"1\" class=\"dataframe\">\n",
       "  <thead>\n",
       "    <tr style=\"text-align: right;\">\n",
       "      <th></th>\n",
       "      <th>userId</th>\n",
       "      <th>listening_time</th>\n",
       "      <th>thumbs_up</th>\n",
       "      <th>thumbs_down</th>\n",
       "      <th>total_songs</th>\n",
       "      <th>sessions</th>\n",
       "      <th>friends</th>\n",
       "      <th>created</th>\n",
       "      <th>last_session</th>\n",
       "      <th>active_days</th>\n",
       "      <th>churn</th>\n",
       "    </tr>\n",
       "  </thead>\n",
       "  <tbody>\n",
       "    <tr>\n",
       "      <th>0</th>\n",
       "      <td>100010</td>\n",
       "      <td>6.694090e+04</td>\n",
       "      <td>17.0</td>\n",
       "      <td>5.0</td>\n",
       "      <td>275</td>\n",
       "      <td>7</td>\n",
       "      <td>4.0</td>\n",
       "      <td>1538016340000</td>\n",
       "      <td>1542823952000</td>\n",
       "      <td>55</td>\n",
       "      <td>0</td>\n",
       "    </tr>\n",
       "    <tr>\n",
       "      <th>1</th>\n",
       "      <td>200002</td>\n",
       "      <td>9.400888e+04</td>\n",
       "      <td>21.0</td>\n",
       "      <td>6.0</td>\n",
       "      <td>387</td>\n",
       "      <td>6</td>\n",
       "      <td>4.0</td>\n",
       "      <td>1536269906000</td>\n",
       "      <td>1542324354000</td>\n",
       "      <td>70</td>\n",
       "      <td>0</td>\n",
       "    </tr>\n",
       "    <tr>\n",
       "      <th>2</th>\n",
       "      <td>125</td>\n",
       "      <td>2.089113e+03</td>\n",
       "      <td>NaN</td>\n",
       "      <td>NaN</td>\n",
       "      <td>8</td>\n",
       "      <td>1</td>\n",
       "      <td>NaN</td>\n",
       "      <td>1533157139000</td>\n",
       "      <td>1539318918000</td>\n",
       "      <td>71</td>\n",
       "      <td>1</td>\n",
       "    </tr>\n",
       "    <tr>\n",
       "      <th>3</th>\n",
       "      <td>124</td>\n",
       "      <td>1.012312e+06</td>\n",
       "      <td>171.0</td>\n",
       "      <td>41.0</td>\n",
       "      <td>4079</td>\n",
       "      <td>29</td>\n",
       "      <td>74.0</td>\n",
       "      <td>1532224335000</td>\n",
       "      <td>1543590766000</td>\n",
       "      <td>131</td>\n",
       "      <td>0</td>\n",
       "    </tr>\n",
       "    <tr>\n",
       "      <th>4</th>\n",
       "      <td>51</td>\n",
       "      <td>5.232758e+05</td>\n",
       "      <td>100.0</td>\n",
       "      <td>21.0</td>\n",
       "      <td>2111</td>\n",
       "      <td>10</td>\n",
       "      <td>28.0</td>\n",
       "      <td>1538080987000</td>\n",
       "      <td>1539761972000</td>\n",
       "      <td>19</td>\n",
       "      <td>1</td>\n",
       "    </tr>\n",
       "    <tr>\n",
       "      <th>5</th>\n",
       "      <td>7</td>\n",
       "      <td>3.803409e+04</td>\n",
       "      <td>7.0</td>\n",
       "      <td>1.0</td>\n",
       "      <td>150</td>\n",
       "      <td>7</td>\n",
       "      <td>1.0</td>\n",
       "      <td>1536667576000</td>\n",
       "      <td>1542955611000</td>\n",
       "      <td>72</td>\n",
       "      <td>0</td>\n",
       "    </tr>\n",
       "    <tr>\n",
       "      <th>6</th>\n",
       "      <td>15</td>\n",
       "      <td>4.773076e+05</td>\n",
       "      <td>81.0</td>\n",
       "      <td>14.0</td>\n",
       "      <td>1914</td>\n",
       "      <td>15</td>\n",
       "      <td>31.0</td>\n",
       "      <td>1538239045000</td>\n",
       "      <td>1543121818000</td>\n",
       "      <td>56</td>\n",
       "      <td>0</td>\n",
       "    </tr>\n",
       "    <tr>\n",
       "      <th>7</th>\n",
       "      <td>54</td>\n",
       "      <td>7.113449e+05</td>\n",
       "      <td>163.0</td>\n",
       "      <td>29.0</td>\n",
       "      <td>2841</td>\n",
       "      <td>37</td>\n",
       "      <td>33.0</td>\n",
       "      <td>1532482662000</td>\n",
       "      <td>1542051608000</td>\n",
       "      <td>110</td>\n",
       "      <td>1</td>\n",
       "    </tr>\n",
       "    <tr>\n",
       "      <th>8</th>\n",
       "      <td>155</td>\n",
       "      <td>1.987793e+05</td>\n",
       "      <td>58.0</td>\n",
       "      <td>3.0</td>\n",
       "      <td>820</td>\n",
       "      <td>6</td>\n",
       "      <td>11.0</td>\n",
       "      <td>1541370470000</td>\n",
       "      <td>1543405710000</td>\n",
       "      <td>23</td>\n",
       "      <td>0</td>\n",
       "    </tr>\n",
       "    <tr>\n",
       "      <th>9</th>\n",
       "      <td>100014</td>\n",
       "      <td>6.770347e+04</td>\n",
       "      <td>17.0</td>\n",
       "      <td>3.0</td>\n",
       "      <td>257</td>\n",
       "      <td>6</td>\n",
       "      <td>6.0</td>\n",
       "      <td>1535389443000</td>\n",
       "      <td>1542740649000</td>\n",
       "      <td>85</td>\n",
       "      <td>1</td>\n",
       "    </tr>\n",
       "    <tr>\n",
       "      <th>10</th>\n",
       "      <td>132</td>\n",
       "      <td>4.831189e+05</td>\n",
       "      <td>96.0</td>\n",
       "      <td>17.0</td>\n",
       "      <td>1928</td>\n",
       "      <td>16</td>\n",
       "      <td>41.0</td>\n",
       "      <td>1537054553000</td>\n",
       "      <td>1542833772000</td>\n",
       "      <td>66</td>\n",
       "      <td>0</td>\n",
       "    </tr>\n",
       "    <tr>\n",
       "      <th>11</th>\n",
       "      <td>154</td>\n",
       "      <td>2.066002e+04</td>\n",
       "      <td>11.0</td>\n",
       "      <td>NaN</td>\n",
       "      <td>84</td>\n",
       "      <td>3</td>\n",
       "      <td>3.0</td>\n",
       "      <td>1541268021000</td>\n",
       "      <td>1543330565000</td>\n",
       "      <td>23</td>\n",
       "      <td>0</td>\n",
       "    </tr>\n",
       "    <tr>\n",
       "      <th>12</th>\n",
       "      <td>101</td>\n",
       "      <td>4.474640e+05</td>\n",
       "      <td>86.0</td>\n",
       "      <td>16.0</td>\n",
       "      <td>1797</td>\n",
       "      <td>10</td>\n",
       "      <td>29.0</td>\n",
       "      <td>1535066380000</td>\n",
       "      <td>1539729037000</td>\n",
       "      <td>53</td>\n",
       "      <td>1</td>\n",
       "    </tr>\n",
       "    <tr>\n",
       "      <th>13</th>\n",
       "      <td>11</td>\n",
       "      <td>1.596700e+05</td>\n",
       "      <td>40.0</td>\n",
       "      <td>9.0</td>\n",
       "      <td>647</td>\n",
       "      <td>16</td>\n",
       "      <td>6.0</td>\n",
       "      <td>1532554781000</td>\n",
       "      <td>1543309702000</td>\n",
       "      <td>124</td>\n",
       "      <td>0</td>\n",
       "    </tr>\n",
       "    <tr>\n",
       "      <th>14</th>\n",
       "      <td>138</td>\n",
       "      <td>5.124499e+05</td>\n",
       "      <td>95.0</td>\n",
       "      <td>24.0</td>\n",
       "      <td>2070</td>\n",
       "      <td>15</td>\n",
       "      <td>41.0</td>\n",
       "      <td>1537865819000</td>\n",
       "      <td>1543622365000</td>\n",
       "      <td>66</td>\n",
       "      <td>0</td>\n",
       "    </tr>\n",
       "    <tr>\n",
       "      <th>15</th>\n",
       "      <td>300017</td>\n",
       "      <td>8.974070e+05</td>\n",
       "      <td>303.0</td>\n",
       "      <td>28.0</td>\n",
       "      <td>3632</td>\n",
       "      <td>63</td>\n",
       "      <td>63.0</td>\n",
       "      <td>1537082511000</td>\n",
       "      <td>1543507087000</td>\n",
       "      <td>74</td>\n",
       "      <td>0</td>\n",
       "    </tr>\n",
       "    <tr>\n",
       "      <th>16</th>\n",
       "      <td>100021</td>\n",
       "      <td>5.763318e+04</td>\n",
       "      <td>11.0</td>\n",
       "      <td>5.0</td>\n",
       "      <td>230</td>\n",
       "      <td>5</td>\n",
       "      <td>7.0</td>\n",
       "      <td>1537550344000</td>\n",
       "      <td>1543143782000</td>\n",
       "      <td>64</td>\n",
       "      <td>1</td>\n",
       "    </tr>\n",
       "    <tr>\n",
       "      <th>17</th>\n",
       "      <td>29</td>\n",
       "      <td>7.545176e+05</td>\n",
       "      <td>154.0</td>\n",
       "      <td>22.0</td>\n",
       "      <td>3028</td>\n",
       "      <td>34</td>\n",
       "      <td>47.0</td>\n",
       "      <td>1536988041000</td>\n",
       "      <td>1542181031000</td>\n",
       "      <td>60</td>\n",
       "      <td>1</td>\n",
       "    </tr>\n",
       "    <tr>\n",
       "      <th>18</th>\n",
       "      <td>69</td>\n",
       "      <td>2.860640e+05</td>\n",
       "      <td>72.0</td>\n",
       "      <td>9.0</td>\n",
       "      <td>1125</td>\n",
       "      <td>9</td>\n",
       "      <td>12.0</td>\n",
       "      <td>1536824159000</td>\n",
       "      <td>1542995231000</td>\n",
       "      <td>71</td>\n",
       "      <td>0</td>\n",
       "    </tr>\n",
       "    <tr>\n",
       "      <th>19</th>\n",
       "      <td>112</td>\n",
       "      <td>5.306275e+04</td>\n",
       "      <td>9.0</td>\n",
       "      <td>3.0</td>\n",
       "      <td>215</td>\n",
       "      <td>10</td>\n",
       "      <td>7.0</td>\n",
       "      <td>1536032681000</td>\n",
       "      <td>1543589452000</td>\n",
       "      <td>87</td>\n",
       "      <td>0</td>\n",
       "    </tr>\n",
       "  </tbody>\n",
       "</table>\n",
       "</div>"
      ],
      "text/plain": [
       "    userId  listening_time  thumbs_up  thumbs_down  total_songs  sessions  \\\n",
       "0   100010    6.694090e+04       17.0          5.0          275         7   \n",
       "1   200002    9.400888e+04       21.0          6.0          387         6   \n",
       "2      125    2.089113e+03        NaN          NaN            8         1   \n",
       "3      124    1.012312e+06      171.0         41.0         4079        29   \n",
       "4       51    5.232758e+05      100.0         21.0         2111        10   \n",
       "5        7    3.803409e+04        7.0          1.0          150         7   \n",
       "6       15    4.773076e+05       81.0         14.0         1914        15   \n",
       "7       54    7.113449e+05      163.0         29.0         2841        37   \n",
       "8      155    1.987793e+05       58.0          3.0          820         6   \n",
       "9   100014    6.770347e+04       17.0          3.0          257         6   \n",
       "10     132    4.831189e+05       96.0         17.0         1928        16   \n",
       "11     154    2.066002e+04       11.0          NaN           84         3   \n",
       "12     101    4.474640e+05       86.0         16.0         1797        10   \n",
       "13      11    1.596700e+05       40.0          9.0          647        16   \n",
       "14     138    5.124499e+05       95.0         24.0         2070        15   \n",
       "15  300017    8.974070e+05      303.0         28.0         3632        63   \n",
       "16  100021    5.763318e+04       11.0          5.0          230         5   \n",
       "17      29    7.545176e+05      154.0         22.0         3028        34   \n",
       "18      69    2.860640e+05       72.0          9.0         1125         9   \n",
       "19     112    5.306275e+04        9.0          3.0          215        10   \n",
       "\n",
       "    friends        created   last_session  active_days churn  \n",
       "0       4.0  1538016340000  1542823952000           55     0  \n",
       "1       4.0  1536269906000  1542324354000           70     0  \n",
       "2       NaN  1533157139000  1539318918000           71     1  \n",
       "3      74.0  1532224335000  1543590766000          131     0  \n",
       "4      28.0  1538080987000  1539761972000           19     1  \n",
       "5       1.0  1536667576000  1542955611000           72     0  \n",
       "6      31.0  1538239045000  1543121818000           56     0  \n",
       "7      33.0  1532482662000  1542051608000          110     1  \n",
       "8      11.0  1541370470000  1543405710000           23     0  \n",
       "9       6.0  1535389443000  1542740649000           85     1  \n",
       "10     41.0  1537054553000  1542833772000           66     0  \n",
       "11      3.0  1541268021000  1543330565000           23     0  \n",
       "12     29.0  1535066380000  1539729037000           53     1  \n",
       "13      6.0  1532554781000  1543309702000          124     0  \n",
       "14     41.0  1537865819000  1543622365000           66     0  \n",
       "15     63.0  1537082511000  1543507087000           74     0  \n",
       "16      7.0  1537550344000  1543143782000           64     1  \n",
       "17     47.0  1536988041000  1542181031000           60     1  \n",
       "18     12.0  1536824159000  1542995231000           71     0  \n",
       "19      7.0  1536032681000  1543589452000           87     0  "
      ]
     },
     "execution_count": 24,
     "metadata": {},
     "output_type": "execute_result"
    }
   ],
   "source": [
    "user_data.toPandas().head(20)"
   ]
  },
  {
   "cell_type": "markdown",
   "metadata": {},
   "source": [
    "As we can see above, there is still some work to be done:\n",
    "- I'll input NaNs with 0, as it makes sense that some users don't have friends or never used the thumbs up/down feature of the app.\n",
    "- Columns `created` and `last_session` can be dropped."
   ]
  },
  {
   "cell_type": "code",
   "execution_count": 25,
   "metadata": {},
   "outputs": [],
   "source": [
    "full_df = user_data.drop('created').drop('last_session').fillna(0)"
   ]
  },
  {
   "cell_type": "code",
   "execution_count": 26,
   "metadata": {},
   "outputs": [
    {
     "data": {
      "text/html": [
       "<div>\n",
       "<style scoped>\n",
       "    .dataframe tbody tr th:only-of-type {\n",
       "        vertical-align: middle;\n",
       "    }\n",
       "\n",
       "    .dataframe tbody tr th {\n",
       "        vertical-align: top;\n",
       "    }\n",
       "\n",
       "    .dataframe thead th {\n",
       "        text-align: right;\n",
       "    }\n",
       "</style>\n",
       "<table border=\"1\" class=\"dataframe\">\n",
       "  <thead>\n",
       "    <tr style=\"text-align: right;\">\n",
       "      <th></th>\n",
       "      <th>userId</th>\n",
       "      <th>listening_time</th>\n",
       "      <th>thumbs_up</th>\n",
       "      <th>thumbs_down</th>\n",
       "      <th>total_songs</th>\n",
       "      <th>sessions</th>\n",
       "      <th>friends</th>\n",
       "      <th>active_days</th>\n",
       "      <th>churn</th>\n",
       "    </tr>\n",
       "  </thead>\n",
       "  <tbody>\n",
       "    <tr>\n",
       "      <th>0</th>\n",
       "      <td>100010</td>\n",
       "      <td>6.694090e+04</td>\n",
       "      <td>17</td>\n",
       "      <td>5</td>\n",
       "      <td>275</td>\n",
       "      <td>7</td>\n",
       "      <td>4</td>\n",
       "      <td>55</td>\n",
       "      <td>0</td>\n",
       "    </tr>\n",
       "    <tr>\n",
       "      <th>1</th>\n",
       "      <td>200002</td>\n",
       "      <td>9.400888e+04</td>\n",
       "      <td>21</td>\n",
       "      <td>6</td>\n",
       "      <td>387</td>\n",
       "      <td>6</td>\n",
       "      <td>4</td>\n",
       "      <td>70</td>\n",
       "      <td>0</td>\n",
       "    </tr>\n",
       "    <tr>\n",
       "      <th>2</th>\n",
       "      <td>125</td>\n",
       "      <td>2.089113e+03</td>\n",
       "      <td>0</td>\n",
       "      <td>0</td>\n",
       "      <td>8</td>\n",
       "      <td>1</td>\n",
       "      <td>0</td>\n",
       "      <td>71</td>\n",
       "      <td>1</td>\n",
       "    </tr>\n",
       "    <tr>\n",
       "      <th>3</th>\n",
       "      <td>124</td>\n",
       "      <td>1.012312e+06</td>\n",
       "      <td>171</td>\n",
       "      <td>41</td>\n",
       "      <td>4079</td>\n",
       "      <td>29</td>\n",
       "      <td>74</td>\n",
       "      <td>131</td>\n",
       "      <td>0</td>\n",
       "    </tr>\n",
       "    <tr>\n",
       "      <th>4</th>\n",
       "      <td>51</td>\n",
       "      <td>5.232758e+05</td>\n",
       "      <td>100</td>\n",
       "      <td>21</td>\n",
       "      <td>2111</td>\n",
       "      <td>10</td>\n",
       "      <td>28</td>\n",
       "      <td>19</td>\n",
       "      <td>1</td>\n",
       "    </tr>\n",
       "  </tbody>\n",
       "</table>\n",
       "</div>"
      ],
      "text/plain": [
       "   userId  listening_time  thumbs_up  thumbs_down  total_songs  sessions  \\\n",
       "0  100010    6.694090e+04         17            5          275         7   \n",
       "1  200002    9.400888e+04         21            6          387         6   \n",
       "2     125    2.089113e+03          0            0            8         1   \n",
       "3     124    1.012312e+06        171           41         4079        29   \n",
       "4      51    5.232758e+05        100           21         2111        10   \n",
       "\n",
       "   friends  active_days churn  \n",
       "0        4           55     0  \n",
       "1        4           70     0  \n",
       "2        0           71     1  \n",
       "3       74          131     0  \n",
       "4       28           19     1  "
      ]
     },
     "execution_count": 26,
     "metadata": {},
     "output_type": "execute_result"
    }
   ],
   "source": [
    "full_df.toPandas().head()"
   ]
  },
  {
   "cell_type": "code",
   "execution_count": 27,
   "metadata": {},
   "outputs": [
    {
     "name": "stdout",
     "output_type": "stream",
     "text": [
      "root\n",
      " |-- userId: string (nullable = true)\n",
      " |-- listening_time: double (nullable = false)\n",
      " |-- thumbs_up: long (nullable = true)\n",
      " |-- thumbs_down: long (nullable = true)\n",
      " |-- total_songs: long (nullable = true)\n",
      " |-- sessions: long (nullable = true)\n",
      " |-- friends: long (nullable = true)\n",
      " |-- active_days: integer (nullable = true)\n",
      " |-- churn: string (nullable = true)\n",
      "\n"
     ]
    }
   ],
   "source": [
    "full_df.printSchema()"
   ]
  },
  {
   "cell_type": "code",
   "execution_count": 28,
   "metadata": {},
   "outputs": [],
   "source": [
    "#transforming features to vectors\n",
    "\n",
    "feature_cols = ['listening_time', 'thumbs_up', 'thumbs_down', 'total_songs',\n",
    "                'sessions', 'friends', 'active_days']\n",
    "\n",
    "assembler = VectorAssembler(\n",
    "    inputCols = feature_cols,\n",
    "    outputCol = 'features')\n",
    "\n",
    "model_df = assembler.transform(full_df)\n",
    "\n",
    "#renaming churn column to 'label'\n",
    "model_df = model_df.withColumn(\"label\", model_df['churn'].cast(IntegerType()))"
   ]
  },
  {
   "cell_type": "code",
   "execution_count": 29,
   "metadata": {},
   "outputs": [],
   "source": [
    "#scaling\n",
    "scaler = StandardScaler(inputCol = 'features', outputCol='scaled_features')\n",
    "model_df = scaler.fit(model_df).transform(model_df)"
   ]
  },
  {
   "cell_type": "code",
   "execution_count": 30,
   "metadata": {},
   "outputs": [
    {
     "name": "stdout",
     "output_type": "stream",
     "text": [
      "root\n",
      " |-- userId: string (nullable = true)\n",
      " |-- listening_time: double (nullable = false)\n",
      " |-- thumbs_up: long (nullable = true)\n",
      " |-- thumbs_down: long (nullable = true)\n",
      " |-- total_songs: long (nullable = true)\n",
      " |-- sessions: long (nullable = true)\n",
      " |-- friends: long (nullable = true)\n",
      " |-- active_days: integer (nullable = true)\n",
      " |-- churn: string (nullable = true)\n",
      " |-- features: vector (nullable = true)\n",
      " |-- label: integer (nullable = true)\n",
      " |-- scaled_features: vector (nullable = true)\n",
      "\n"
     ]
    }
   ],
   "source": [
    "#checking if everything is correct\n",
    "model_df.printSchema()"
   ]
  },
  {
   "cell_type": "markdown",
   "metadata": {},
   "source": [
    "# Modeling\n",
    "Split the full dataset into train and test sets. Test out several of the machine learning methods you learned. Evaluate the accuracy of the various models, tuning parameters as necessary. Determine your winning model based on test accuracy and report results on the validation set. Since the churned users are a fairly small subset, I suggest using F1 score as the metric to optimize."
   ]
  },
  {
   "cell_type": "code",
   "execution_count": 31,
   "metadata": {},
   "outputs": [
    {
     "name": "stdout",
     "output_type": "stream",
     "text": [
      "Random Forest - F1: 0.8141923436041085\n"
     ]
    }
   ],
   "source": [
    "train, test = model_df.randomSplit([0.8, 0.2], seed = 42)\n",
    "\n",
    "rf = RandomForestClassifier(labelCol='label', \n",
    "                            featuresCol='scaled_features',\n",
    "                            numTrees=10)\n",
    "\n",
    "rf_model = rf.fit(train)\n",
    "preds = rf_model.transform(test)\n",
    "\n",
    "evaluator = MulticlassClassificationEvaluator(\n",
    "    labelCol=\"label\", predictionCol=\"prediction\", metricName=\"f1\")\n",
    "\n",
    "score = evaluator.evaluate(preds)\n",
    "print('Random Forest - F1:', score)"
   ]
  },
  {
   "cell_type": "code",
   "execution_count": 39,
   "metadata": {},
   "outputs": [
    {
     "name": "stdout",
     "output_type": "stream",
     "text": [
      "Logistic Regression - F1: 0.6627450980392157\n"
     ]
    }
   ],
   "source": [
    "from pyspark.ml.classification import LogisticRegression, GBTClassifier\n",
    "\n",
    "lr = LogisticRegression(featuresCol='scaled_features', maxIter = 10, regParam = 0.3, elasticNetParam = 0.8)\n",
    "lr_model = lr.fit(train)\n",
    "\n",
    "preds = lr_model.transform(test)\n",
    "score = evaluator.evaluate(preds)\n",
    "print('Logistic Regression - F1:', score)"
   ]
  },
  {
   "cell_type": "code",
   "execution_count": 40,
   "metadata": {},
   "outputs": [
    {
     "name": "stdout",
     "output_type": "stream",
     "text": [
      "GBT - F1: 0.7058823529411765\n"
     ]
    }
   ],
   "source": [
    "gbt = GBTClassifier(featuresCol='scaled_features',\n",
    "                    labelCol='label',\n",
    "                    maxIter=10)\n",
    "gbt_model = gbt.fit(train)\n",
    "preds = gbt_model.transform(test)\n",
    "\n",
    "score = evaluator.evaluate(preds)\n",
    "print('GBT - F1:', score)"
   ]
  },
  {
   "cell_type": "markdown",
   "metadata": {},
   "source": [
    "## Hyperparameter Tuning"
   ]
  },
  {
   "cell_type": "code",
   "execution_count": 32,
   "metadata": {},
   "outputs": [],
   "source": [
    "from pyspark.ml.tuning import ParamGridBuilder, CrossValidator\n",
    "\n",
    "param_grid = ParamGridBuilder() \\\n",
    "            .addGrid(rf_model.numTrees, [50, 100, 200]) \\\n",
    "            .addGrid(rf_model.impurity, ['gini', 'entropy']) \\\n",
    "            .build()\n",
    "\n",
    "cross_val = CrossValidator(estimator=rf,\n",
    "                           estimatorParamMaps=param_grid,\n",
    "                           evaluator=MulticlassClassificationEvaluator(),\n",
    "                           numFolds=3)\n",
    "\n",
    "cv_model = cross_val.fit(train)"
   ]
  },
  {
   "cell_type": "code",
   "execution_count": 33,
   "metadata": {},
   "outputs": [
    {
     "name": "stdout",
     "output_type": "stream",
     "text": [
      "Hyperparameter model - F1: 0.8399835458658989\n"
     ]
    }
   ],
   "source": [
    "cv_preds = cv_model.transform(test)\n",
    "\n",
    "score = evaluator.evaluate(cv_preds)\n",
    "print('Hyperparameter model - F1:', score)"
   ]
  },
  {
   "cell_type": "code",
   "execution_count": 34,
   "metadata": {},
   "outputs": [
    {
     "data": {
      "text/plain": [
       "[0.750604103763751,\n",
       " 0.7471231872910409,\n",
       " 0.76037264007762,\n",
       " 0.7708354914427111,\n",
       " 0.7686046233235793,\n",
       " 0.7842250417998409]"
      ]
     },
     "execution_count": 34,
     "metadata": {},
     "output_type": "execute_result"
    }
   ],
   "source": [
    "cv_model.avgMetrics"
   ]
  },
  {
   "cell_type": "code",
   "execution_count": 41,
   "metadata": {},
   "outputs": [
    {
     "data": {
      "text/plain": [
       "200"
      ]
     },
     "execution_count": 41,
     "metadata": {},
     "output_type": "execute_result"
    }
   ],
   "source": [
    "cv_model.bestModel.getNumTrees"
   ]
  },
  {
   "cell_type": "code",
   "execution_count": 51,
   "metadata": {},
   "outputs": [
    {
     "data": {
      "text/plain": [
       "SparseVector(7, {0: 0.127, 1: 0.0827, 2: 0.1567, 3: 0.0628, 4: 0.0901, 5: 0.1271, 6: 0.3537})"
      ]
     },
     "execution_count": 51,
     "metadata": {},
     "output_type": "execute_result"
    }
   ],
   "source": [
    "cv_model.bestModel.featureImportances"
   ]
  },
  {
   "cell_type": "markdown",
   "metadata": {},
   "source": [
    "## Feature importances"
   ]
  },
  {
   "cell_type": "code",
   "execution_count": 52,
   "metadata": {},
   "outputs": [],
   "source": [
    "importances = dict(zip(feature_cols, cv_model.bestModel.featureImportances))"
   ]
  },
  {
   "cell_type": "code",
   "execution_count": 53,
   "metadata": {},
   "outputs": [],
   "source": [
    "ordered_importances = dict(sorted(importances.items(), key=lambda item: item[1]))"
   ]
  },
  {
   "cell_type": "code",
   "execution_count": 55,
   "metadata": {},
   "outputs": [
    {
     "data": {
      "image/png": "[encoded data removed]",
      "text/plain": [
       "<matplotlib.figure.Figure at 0x7fefc7beee10>"
      ]
     },
     "metadata": {
      "needs_background": "light"
     },
     "output_type": "display_data"
    }
   ],
   "source": [
    "import seaborn as sns\n",
    "import matplotlib.pyplot as plt \n",
    "\n",
    "sns.barplot(y=list(ordered_importances.keys()), x=list(ordered_importances.values()))\n",
    "plt.title('Top 10 features')\n",
    "plt.ylabel('feature')\n",
    "plt.xlabel('importance');"
   ]
  }
 ],
 "metadata": {
  "kernelspec": {
   "display_name": "Python 3",
   "language": "python",
   "name": "python3"
  },
  "language_info": {
   "codemirror_mode": {
    "name": "ipython",
    "version": 3
   },
   "file_extension": ".py",
   "mimetype": "text/x-python",
   "name": "python",
   "nbconvert_exporter": "python",
   "pygments_lexer": "ipython3",
   "version": "3.6.3"
  }
 },
 "nbformat": 4,
 "nbformat_minor": 2
}
